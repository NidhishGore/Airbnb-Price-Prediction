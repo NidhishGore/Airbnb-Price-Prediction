{
  "nbformat": 4,
  "nbformat_minor": 0,
  "metadata": {
    "colab": {
      "provenance": []
    },
    "kernelspec": {
      "name": "python3",
      "display_name": "Python 3"
    },
    "language_info": {
      "name": "python"
    }
  },
  "cells": [
    {
      "cell_type": "code",
      "execution_count": null,
      "metadata": {
        "id": "neDzDvFO6BqT"
      },
      "outputs": [],
      "source": [
        "import warnings\n",
        "warnings.filterwarnings('ignore')\n",
        "#importing the libraries\n",
        "import numpy as np\n",
        "import pandas as pd\n",
        "import matplotlib.pyplot as plt\n",
        "import seaborn as sns\n",
        "from tqdm import tqdm"
      ]
    },
    {
      "cell_type": "code",
      "source": [
        "from google.colab import drive\n",
        "\n",
        "# Mount Google Drive\n",
        "drive.mount('/content/drive')\n",
        "\n",
        "# Access the dataset in Google Drive\n",
        "dataset_path = '/content/drive/My Drive/USADATA.xlsx'"
      ],
      "metadata": {
        "colab": {
          "base_uri": "https://localhost:8080/"
        },
        "id": "H2bb7U3y6Hh4",
        "outputId": "31ebea31-1cc1-4c4a-e215-7a35567a3b7d"
      },
      "execution_count": null,
      "outputs": [
        {
          "output_type": "stream",
          "name": "stdout",
          "text": [
            "Drive already mounted at /content/drive; to attempt to forcibly remount, call drive.mount(\"/content/drive\", force_remount=True).\n"
          ]
        }
      ]
    },
    {
      "cell_type": "code",
      "source": [
        "# Read the XLSX file into a Pandas DataFrame\n",
        "Air = pd.read_excel(dataset_path)"
      ],
      "metadata": {
        "id": "eq-v_ENM6Mc-"
      },
      "execution_count": null,
      "outputs": []
    },
    {
      "cell_type": "code",
      "source": [
        "Air.drop(['Host Since'],axis=1,inplace=True)\n",
        "Air.drop(['Host ID'],axis=1,inplace=True)\n",
        "Air.drop(['First Review'],axis=1,inplace=True)\n",
        "Air.drop(['Last Review'],axis=1,inplace=True)"
      ],
      "metadata": {
        "id": "yxCV5dWZ6PIW"
      },
      "execution_count": null,
      "outputs": []
    },
    {
      "cell_type": "code",
      "source": [
        "Air.drop(['Experiences Offered'],axis=1,inplace=True)\n",
        "Air.drop(['Street'],axis=1,inplace=True)\n",
        "Air.drop(['Neighbourhood'],axis=1,inplace=True)\n",
        "Air.drop(['Neighbourhood Cleansed'],axis=1,inplace=True)\n",
        "Air.drop(['City'],axis=1,inplace=True)\n",
        "Air.drop(['Country'],axis=1,inplace=True)\n",
        "Air.drop(['Carbon monoxide detector'],axis=1,inplace=True)\n",
        "Air.drop(['Elevator in building'],axis=1,inplace=True)\n",
        "Air.drop(['Host Profile Pic'],axis=1,inplace=True)\n",
        "Air.drop(['Instant Bookable'],axis=1,inplace=True)\n",
        "Air.drop(['Require Guest Profile Picture'],axis=1,inplace=True)\n",
        "Air.drop(['Require Guest Phone Verification'],axis=1,inplace=True)\n",
        "Air.drop(['Requires License'],axis=1,inplace=True)"
      ],
      "metadata": {
        "id": "NPDsfFwQ6SXH"
      },
      "execution_count": null,
      "outputs": []
    },
    {
      "cell_type": "code",
      "source": [
        "#split the dependent variable and independent variable\n",
        "air_X =  Air.copy()\n",
        "air_X.drop(['Price'],axis=1,inplace=True)\n",
        "air_y = Air['Price']"
      ],
      "metadata": {
        "id": "Zjl0-nEK6U2A"
      },
      "execution_count": null,
      "outputs": []
    },
    {
      "cell_type": "code",
      "source": [
        "air_X.info()"
      ],
      "metadata": {
        "colab": {
          "base_uri": "https://localhost:8080/"
        },
        "id": "j8qVcO-86WYY",
        "outputId": "acbf5358-9a17-4ac9-879f-fd4d206249b6"
      },
      "execution_count": null,
      "outputs": [
        {
          "output_type": "stream",
          "name": "stdout",
          "text": [
            "<class 'pandas.core.frame.DataFrame'>\n",
            "RangeIndex: 132582 entries, 0 to 132581\n",
            "Data columns (total 57 columns):\n",
            " #   Column                          Non-Null Count   Dtype  \n",
            "---  ------                          --------------   -----  \n",
            " 0   Host Response Time              132582 non-null  object \n",
            " 1   Host Response Rate              132582 non-null  int64  \n",
            " 2   Host Acceptance Rate            132582 non-null  float64\n",
            " 3   Host Total Listings Count       132582 non-null  int64  \n",
            " 4   State                           132582 non-null  object \n",
            " 5   Zipcode                         132582 non-null  object \n",
            " 6   Latitude                        132582 non-null  float64\n",
            " 7   Longitude                       132582 non-null  float64\n",
            " 8   Property Type                   132582 non-null  object \n",
            " 9   Room Type                       132582 non-null  object \n",
            " 10  Accommodates                    132582 non-null  int64  \n",
            " 11  Bathrooms                       132582 non-null  float64\n",
            " 12  Bedrooms                        132582 non-null  int64  \n",
            " 13  Beds                            132582 non-null  int64  \n",
            " 14  Bed Type                        132582 non-null  object \n",
            " 15  Security Deposit                132582 non-null  int64  \n",
            " 16  Cleaning Fee                    132582 non-null  int64  \n",
            " 17  Guests Included                 132582 non-null  int64  \n",
            " 18  Extra People                    132582 non-null  int64  \n",
            " 19  Minimum Nights                  132582 non-null  int64  \n",
            " 20  Maximum Nights                  132582 non-null  int64  \n",
            " 21  Has Availability                132582 non-null  bool   \n",
            " 22  Availability 30                 132582 non-null  int64  \n",
            " 23  Availability 60                 132582 non-null  int64  \n",
            " 24  Availability 90                 132582 non-null  int64  \n",
            " 25  Availability 365                132582 non-null  int64  \n",
            " 26  Number of Reviews               132582 non-null  int64  \n",
            " 27  Review Scores Rating            132582 non-null  int64  \n",
            " 28  Review Scores Accuracy          132582 non-null  int64  \n",
            " 29  Review Scores Cleanliness       132582 non-null  int64  \n",
            " 30  Review Scores Checkin           132582 non-null  int64  \n",
            " 31  Review Scores Communication     132582 non-null  int64  \n",
            " 32  Review Scores Location          132582 non-null  int64  \n",
            " 33  Review Scores Value             132582 non-null  int64  \n",
            " 34  License                         132582 non-null  object \n",
            " 35  Cancellation Policy             132582 non-null  object \n",
            " 36  Calculated host listings count  132582 non-null  int64  \n",
            " 37  Reviews per Month               132582 non-null  float64\n",
            " 38  Months                          132582 non-null  int64  \n",
            " 39  TV                              132582 non-null  object \n",
            " 40  Internet                        132582 non-null  object \n",
            " 41  Kitchen                         132582 non-null  object \n",
            " 42  Heating                         132582 non-null  object \n",
            " 43  Washer                          132582 non-null  object \n",
            " 44  First aid kit                   132582 non-null  object \n",
            " 45  Fire Extinguisher               132582 non-null  object \n",
            " 46  Laptop friendly workspace       132582 non-null  object \n",
            " 47  Pets live on property           132582 non-null  object \n",
            " 48  Pets allowed                    132582 non-null  object \n",
            " 49  Bathroom Amenities              132582 non-null  object \n",
            " 50  24 Hour Check-in                132582 non-null  object \n",
            " 51  Smoke detector                  132582 non-null  object \n",
            " 52  Breakfast                       132582 non-null  object \n",
            " 53  Air conditioning                132582 non-null  object \n",
            " 54  Host Is Superhost               132582 non-null  object \n",
            " 55  Host Identity Verified          132582 non-null  object \n",
            " 56  Is Location Exact               132582 non-null  object \n",
            "dtypes: bool(1), float64(5), int64(25), object(26)\n",
            "memory usage: 56.8+ MB\n"
          ]
        }
      ]
    },
    {
      "cell_type": "code",
      "source": [
        "#list all the categorical variables\n",
        "columns_ohe =[0, 4, 5, 8, 9, 14, 34, 35, 39, 40, 41, 42, 43, 44, 45, 46, 47, 48, 49, 50, 51, 52, 53, 54, 55, 56]"
      ],
      "metadata": {
        "id": "icgC2WHk7Ttb"
      },
      "execution_count": null,
      "outputs": []
    },
    {
      "cell_type": "code",
      "source": [
        "selected_columns = air_X.iloc[:, [0, 4, 5, 8, 9, 14, 34, 35, 39, 40, 41, 42, 43, 44, 45, 46, 47, 48, 49, 50, 51, 52, 53, 54, 55, 56]]"
      ],
      "metadata": {
        "id": "gfVa6HFg7uyZ"
      },
      "execution_count": null,
      "outputs": []
    },
    {
      "cell_type": "code",
      "source": [
        "selected_columns"
      ],
      "metadata": {
        "colab": {
          "base_uri": "https://localhost:8080/",
          "height": 669
        },
        "id": "gzgYnZ_87zwm",
        "outputId": "4f64c50e-1b26-4548-9465-6529734183a8"
      },
      "execution_count": null,
      "outputs": [
        {
          "output_type": "execute_result",
          "data": {
            "text/plain": [
              "       Host Response Time State Zipcode Property Type        Room Type  \\\n",
              "0                  1 Hour    TX   78704     Apartment  Entire home/apt   \n",
              "1                  1 Hour    TX   78704         House  Entire home/apt   \n",
              "2                  1 Hour    TX   78721   Condominium     Private room   \n",
              "3                  1 Hour    TX   78704     Apartment  Entire home/apt   \n",
              "4                  1 Hour    TX   78704         House  Entire home/apt   \n",
              "...                   ...   ...     ...           ...              ...   \n",
              "132577             1 Hour    TX   78735     Apartment  Entire home/apt   \n",
              "132578             1 Hour    TX   78735         House     Private room   \n",
              "132579             1 Hour    TX   78721         House     Private room   \n",
              "132580             1 Hour    TX   78721         House  Entire home/apt   \n",
              "132581             1 Hour    TX   78721         House  Entire home/apt   \n",
              "\n",
              "        Bed Type     License Cancellation Policy   TV Internet  ...  \\\n",
              "0       Real Bed  no license            flexible  yes      Yes  ...   \n",
              "1       Real Bed  no license            moderate   no      Yes  ...   \n",
              "2       Real Bed  no license            flexible  yes      Yes  ...   \n",
              "3       Real Bed  no license            flexible  yes      Yes  ...   \n",
              "4       Real Bed  no license              strict  yes      Yes  ...   \n",
              "...          ...         ...                 ...  ...      ...  ...   \n",
              "132577  Real Bed  no license            flexible  yes      Yes  ...   \n",
              "132578  Real Bed  no license            flexible  yes      Yes  ...   \n",
              "132579  Real Bed  no license            flexible  yes      Yes  ...   \n",
              "132580  Real Bed  no license            moderate  yes      Yes  ...   \n",
              "132581  Real Bed  no license            flexible  yes      Yes  ...   \n",
              "\n",
              "       Pets live on property Pets allowed Bathroom Amenities 24 Hour Check-in  \\\n",
              "0                        yes          yes                yes              yes   \n",
              "1                         no           no                yes              yes   \n",
              "2                         no           no                yes              yes   \n",
              "3                         no           no                yes               no   \n",
              "4                         no           no                yes              yes   \n",
              "...                      ...          ...                ...              ...   \n",
              "132577                    no           no                yes              yes   \n",
              "132578                    no           no                yes               no   \n",
              "132579                    no           no                yes               no   \n",
              "132580                    no          yes                yes               no   \n",
              "132581                    no           no                yes               no   \n",
              "\n",
              "       Smoke detector Breakfast Air conditioning Host Is Superhost  \\\n",
              "0                 yes        no              yes                no   \n",
              "1                 yes        no              yes                no   \n",
              "2                  no        no              yes                no   \n",
              "3                 yes        no              yes                no   \n",
              "4                 yes        no              yes               yes   \n",
              "...               ...       ...              ...               ...   \n",
              "132577            yes        no              yes                no   \n",
              "132578            yes       yes              yes                no   \n",
              "132579            yes        no              yes                no   \n",
              "132580            yes        no              yes                no   \n",
              "132581            yes        no              yes                no   \n",
              "\n",
              "       Host Identity Verified Is Location Exact  \n",
              "0                         yes               yes  \n",
              "1                          no               yes  \n",
              "2                          no                no  \n",
              "3                          no               yes  \n",
              "4                         yes               yes  \n",
              "...                       ...               ...  \n",
              "132577                    yes               yes  \n",
              "132578                     no               yes  \n",
              "132579                    yes               yes  \n",
              "132580                    yes               yes  \n",
              "132581                     no               yes  \n",
              "\n",
              "[132582 rows x 26 columns]"
            ],
            "text/html": [
              "\n",
              "  <div id=\"df-b42c7264-106d-453d-b638-cb2ec150d68c\" class=\"colab-df-container\">\n",
              "    <div>\n",
              "<style scoped>\n",
              "    .dataframe tbody tr th:only-of-type {\n",
              "        vertical-align: middle;\n",
              "    }\n",
              "\n",
              "    .dataframe tbody tr th {\n",
              "        vertical-align: top;\n",
              "    }\n",
              "\n",
              "    .dataframe thead th {\n",
              "        text-align: right;\n",
              "    }\n",
              "</style>\n",
              "<table border=\"1\" class=\"dataframe\">\n",
              "  <thead>\n",
              "    <tr style=\"text-align: right;\">\n",
              "      <th></th>\n",
              "      <th>Host Response Time</th>\n",
              "      <th>State</th>\n",
              "      <th>Zipcode</th>\n",
              "      <th>Property Type</th>\n",
              "      <th>Room Type</th>\n",
              "      <th>Bed Type</th>\n",
              "      <th>License</th>\n",
              "      <th>Cancellation Policy</th>\n",
              "      <th>TV</th>\n",
              "      <th>Internet</th>\n",
              "      <th>...</th>\n",
              "      <th>Pets live on property</th>\n",
              "      <th>Pets allowed</th>\n",
              "      <th>Bathroom Amenities</th>\n",
              "      <th>24 Hour Check-in</th>\n",
              "      <th>Smoke detector</th>\n",
              "      <th>Breakfast</th>\n",
              "      <th>Air conditioning</th>\n",
              "      <th>Host Is Superhost</th>\n",
              "      <th>Host Identity Verified</th>\n",
              "      <th>Is Location Exact</th>\n",
              "    </tr>\n",
              "  </thead>\n",
              "  <tbody>\n",
              "    <tr>\n",
              "      <th>0</th>\n",
              "      <td>1 Hour</td>\n",
              "      <td>TX</td>\n",
              "      <td>78704</td>\n",
              "      <td>Apartment</td>\n",
              "      <td>Entire home/apt</td>\n",
              "      <td>Real Bed</td>\n",
              "      <td>no license</td>\n",
              "      <td>flexible</td>\n",
              "      <td>yes</td>\n",
              "      <td>Yes</td>\n",
              "      <td>...</td>\n",
              "      <td>yes</td>\n",
              "      <td>yes</td>\n",
              "      <td>yes</td>\n",
              "      <td>yes</td>\n",
              "      <td>yes</td>\n",
              "      <td>no</td>\n",
              "      <td>yes</td>\n",
              "      <td>no</td>\n",
              "      <td>yes</td>\n",
              "      <td>yes</td>\n",
              "    </tr>\n",
              "    <tr>\n",
              "      <th>1</th>\n",
              "      <td>1 Hour</td>\n",
              "      <td>TX</td>\n",
              "      <td>78704</td>\n",
              "      <td>House</td>\n",
              "      <td>Entire home/apt</td>\n",
              "      <td>Real Bed</td>\n",
              "      <td>no license</td>\n",
              "      <td>moderate</td>\n",
              "      <td>no</td>\n",
              "      <td>Yes</td>\n",
              "      <td>...</td>\n",
              "      <td>no</td>\n",
              "      <td>no</td>\n",
              "      <td>yes</td>\n",
              "      <td>yes</td>\n",
              "      <td>yes</td>\n",
              "      <td>no</td>\n",
              "      <td>yes</td>\n",
              "      <td>no</td>\n",
              "      <td>no</td>\n",
              "      <td>yes</td>\n",
              "    </tr>\n",
              "    <tr>\n",
              "      <th>2</th>\n",
              "      <td>1 Hour</td>\n",
              "      <td>TX</td>\n",
              "      <td>78721</td>\n",
              "      <td>Condominium</td>\n",
              "      <td>Private room</td>\n",
              "      <td>Real Bed</td>\n",
              "      <td>no license</td>\n",
              "      <td>flexible</td>\n",
              "      <td>yes</td>\n",
              "      <td>Yes</td>\n",
              "      <td>...</td>\n",
              "      <td>no</td>\n",
              "      <td>no</td>\n",
              "      <td>yes</td>\n",
              "      <td>yes</td>\n",
              "      <td>no</td>\n",
              "      <td>no</td>\n",
              "      <td>yes</td>\n",
              "      <td>no</td>\n",
              "      <td>no</td>\n",
              "      <td>no</td>\n",
              "    </tr>\n",
              "    <tr>\n",
              "      <th>3</th>\n",
              "      <td>1 Hour</td>\n",
              "      <td>TX</td>\n",
              "      <td>78704</td>\n",
              "      <td>Apartment</td>\n",
              "      <td>Entire home/apt</td>\n",
              "      <td>Real Bed</td>\n",
              "      <td>no license</td>\n",
              "      <td>flexible</td>\n",
              "      <td>yes</td>\n",
              "      <td>Yes</td>\n",
              "      <td>...</td>\n",
              "      <td>no</td>\n",
              "      <td>no</td>\n",
              "      <td>yes</td>\n",
              "      <td>no</td>\n",
              "      <td>yes</td>\n",
              "      <td>no</td>\n",
              "      <td>yes</td>\n",
              "      <td>no</td>\n",
              "      <td>no</td>\n",
              "      <td>yes</td>\n",
              "    </tr>\n",
              "    <tr>\n",
              "      <th>4</th>\n",
              "      <td>1 Hour</td>\n",
              "      <td>TX</td>\n",
              "      <td>78704</td>\n",
              "      <td>House</td>\n",
              "      <td>Entire home/apt</td>\n",
              "      <td>Real Bed</td>\n",
              "      <td>no license</td>\n",
              "      <td>strict</td>\n",
              "      <td>yes</td>\n",
              "      <td>Yes</td>\n",
              "      <td>...</td>\n",
              "      <td>no</td>\n",
              "      <td>no</td>\n",
              "      <td>yes</td>\n",
              "      <td>yes</td>\n",
              "      <td>yes</td>\n",
              "      <td>no</td>\n",
              "      <td>yes</td>\n",
              "      <td>yes</td>\n",
              "      <td>yes</td>\n",
              "      <td>yes</td>\n",
              "    </tr>\n",
              "    <tr>\n",
              "      <th>...</th>\n",
              "      <td>...</td>\n",
              "      <td>...</td>\n",
              "      <td>...</td>\n",
              "      <td>...</td>\n",
              "      <td>...</td>\n",
              "      <td>...</td>\n",
              "      <td>...</td>\n",
              "      <td>...</td>\n",
              "      <td>...</td>\n",
              "      <td>...</td>\n",
              "      <td>...</td>\n",
              "      <td>...</td>\n",
              "      <td>...</td>\n",
              "      <td>...</td>\n",
              "      <td>...</td>\n",
              "      <td>...</td>\n",
              "      <td>...</td>\n",
              "      <td>...</td>\n",
              "      <td>...</td>\n",
              "      <td>...</td>\n",
              "      <td>...</td>\n",
              "    </tr>\n",
              "    <tr>\n",
              "      <th>132577</th>\n",
              "      <td>1 Hour</td>\n",
              "      <td>TX</td>\n",
              "      <td>78735</td>\n",
              "      <td>Apartment</td>\n",
              "      <td>Entire home/apt</td>\n",
              "      <td>Real Bed</td>\n",
              "      <td>no license</td>\n",
              "      <td>flexible</td>\n",
              "      <td>yes</td>\n",
              "      <td>Yes</td>\n",
              "      <td>...</td>\n",
              "      <td>no</td>\n",
              "      <td>no</td>\n",
              "      <td>yes</td>\n",
              "      <td>yes</td>\n",
              "      <td>yes</td>\n",
              "      <td>no</td>\n",
              "      <td>yes</td>\n",
              "      <td>no</td>\n",
              "      <td>yes</td>\n",
              "      <td>yes</td>\n",
              "    </tr>\n",
              "    <tr>\n",
              "      <th>132578</th>\n",
              "      <td>1 Hour</td>\n",
              "      <td>TX</td>\n",
              "      <td>78735</td>\n",
              "      <td>House</td>\n",
              "      <td>Private room</td>\n",
              "      <td>Real Bed</td>\n",
              "      <td>no license</td>\n",
              "      <td>flexible</td>\n",
              "      <td>yes</td>\n",
              "      <td>Yes</td>\n",
              "      <td>...</td>\n",
              "      <td>no</td>\n",
              "      <td>no</td>\n",
              "      <td>yes</td>\n",
              "      <td>no</td>\n",
              "      <td>yes</td>\n",
              "      <td>yes</td>\n",
              "      <td>yes</td>\n",
              "      <td>no</td>\n",
              "      <td>no</td>\n",
              "      <td>yes</td>\n",
              "    </tr>\n",
              "    <tr>\n",
              "      <th>132579</th>\n",
              "      <td>1 Hour</td>\n",
              "      <td>TX</td>\n",
              "      <td>78721</td>\n",
              "      <td>House</td>\n",
              "      <td>Private room</td>\n",
              "      <td>Real Bed</td>\n",
              "      <td>no license</td>\n",
              "      <td>flexible</td>\n",
              "      <td>yes</td>\n",
              "      <td>Yes</td>\n",
              "      <td>...</td>\n",
              "      <td>no</td>\n",
              "      <td>no</td>\n",
              "      <td>yes</td>\n",
              "      <td>no</td>\n",
              "      <td>yes</td>\n",
              "      <td>no</td>\n",
              "      <td>yes</td>\n",
              "      <td>no</td>\n",
              "      <td>yes</td>\n",
              "      <td>yes</td>\n",
              "    </tr>\n",
              "    <tr>\n",
              "      <th>132580</th>\n",
              "      <td>1 Hour</td>\n",
              "      <td>TX</td>\n",
              "      <td>78721</td>\n",
              "      <td>House</td>\n",
              "      <td>Entire home/apt</td>\n",
              "      <td>Real Bed</td>\n",
              "      <td>no license</td>\n",
              "      <td>moderate</td>\n",
              "      <td>yes</td>\n",
              "      <td>Yes</td>\n",
              "      <td>...</td>\n",
              "      <td>no</td>\n",
              "      <td>yes</td>\n",
              "      <td>yes</td>\n",
              "      <td>no</td>\n",
              "      <td>yes</td>\n",
              "      <td>no</td>\n",
              "      <td>yes</td>\n",
              "      <td>no</td>\n",
              "      <td>yes</td>\n",
              "      <td>yes</td>\n",
              "    </tr>\n",
              "    <tr>\n",
              "      <th>132581</th>\n",
              "      <td>1 Hour</td>\n",
              "      <td>TX</td>\n",
              "      <td>78721</td>\n",
              "      <td>House</td>\n",
              "      <td>Entire home/apt</td>\n",
              "      <td>Real Bed</td>\n",
              "      <td>no license</td>\n",
              "      <td>flexible</td>\n",
              "      <td>yes</td>\n",
              "      <td>Yes</td>\n",
              "      <td>...</td>\n",
              "      <td>no</td>\n",
              "      <td>no</td>\n",
              "      <td>yes</td>\n",
              "      <td>no</td>\n",
              "      <td>yes</td>\n",
              "      <td>no</td>\n",
              "      <td>yes</td>\n",
              "      <td>no</td>\n",
              "      <td>no</td>\n",
              "      <td>yes</td>\n",
              "    </tr>\n",
              "  </tbody>\n",
              "</table>\n",
              "<p>132582 rows × 26 columns</p>\n",
              "</div>\n",
              "    <div class=\"colab-df-buttons\">\n",
              "\n",
              "  <div class=\"colab-df-container\">\n",
              "    <button class=\"colab-df-convert\" onclick=\"convertToInteractive('df-b42c7264-106d-453d-b638-cb2ec150d68c')\"\n",
              "            title=\"Convert this dataframe to an interactive table.\"\n",
              "            style=\"display:none;\">\n",
              "\n",
              "  <svg xmlns=\"http://www.w3.org/2000/svg\" height=\"24px\" viewBox=\"0 -960 960 960\">\n",
              "    <path d=\"M120-120v-720h720v720H120Zm60-500h600v-160H180v160Zm220 220h160v-160H400v160Zm0 220h160v-160H400v160ZM180-400h160v-160H180v160Zm440 0h160v-160H620v160ZM180-180h160v-160H180v160Zm440 0h160v-160H620v160Z\"/>\n",
              "  </svg>\n",
              "    </button>\n",
              "\n",
              "  <style>\n",
              "    .colab-df-container {\n",
              "      display:flex;\n",
              "      gap: 12px;\n",
              "    }\n",
              "\n",
              "    .colab-df-convert {\n",
              "      background-color: #E8F0FE;\n",
              "      border: none;\n",
              "      border-radius: 50%;\n",
              "      cursor: pointer;\n",
              "      display: none;\n",
              "      fill: #1967D2;\n",
              "      height: 32px;\n",
              "      padding: 0 0 0 0;\n",
              "      width: 32px;\n",
              "    }\n",
              "\n",
              "    .colab-df-convert:hover {\n",
              "      background-color: #E2EBFA;\n",
              "      box-shadow: 0px 1px 2px rgba(60, 64, 67, 0.3), 0px 1px 3px 1px rgba(60, 64, 67, 0.15);\n",
              "      fill: #174EA6;\n",
              "    }\n",
              "\n",
              "    .colab-df-buttons div {\n",
              "      margin-bottom: 4px;\n",
              "    }\n",
              "\n",
              "    [theme=dark] .colab-df-convert {\n",
              "      background-color: #3B4455;\n",
              "      fill: #D2E3FC;\n",
              "    }\n",
              "\n",
              "    [theme=dark] .colab-df-convert:hover {\n",
              "      background-color: #434B5C;\n",
              "      box-shadow: 0px 1px 3px 1px rgba(0, 0, 0, 0.15);\n",
              "      filter: drop-shadow(0px 1px 2px rgba(0, 0, 0, 0.3));\n",
              "      fill: #FFFFFF;\n",
              "    }\n",
              "  </style>\n",
              "\n",
              "    <script>\n",
              "      const buttonEl =\n",
              "        document.querySelector('#df-b42c7264-106d-453d-b638-cb2ec150d68c button.colab-df-convert');\n",
              "      buttonEl.style.display =\n",
              "        google.colab.kernel.accessAllowed ? 'block' : 'none';\n",
              "\n",
              "      async function convertToInteractive(key) {\n",
              "        const element = document.querySelector('#df-b42c7264-106d-453d-b638-cb2ec150d68c');\n",
              "        const dataTable =\n",
              "          await google.colab.kernel.invokeFunction('convertToInteractive',\n",
              "                                                    [key], {});\n",
              "        if (!dataTable) return;\n",
              "\n",
              "        const docLinkHtml = 'Like what you see? Visit the ' +\n",
              "          '<a target=\"_blank\" href=https://colab.research.google.com/notebooks/data_table.ipynb>data table notebook</a>'\n",
              "          + ' to learn more about interactive tables.';\n",
              "        element.innerHTML = '';\n",
              "        dataTable['output_type'] = 'display_data';\n",
              "        await google.colab.output.renderOutput(dataTable, element);\n",
              "        const docLink = document.createElement('div');\n",
              "        docLink.innerHTML = docLinkHtml;\n",
              "        element.appendChild(docLink);\n",
              "      }\n",
              "    </script>\n",
              "  </div>\n",
              "\n",
              "\n",
              "<div id=\"df-fbcd6cc4-53d0-4b27-b000-fc0c4af5c4b2\">\n",
              "  <button class=\"colab-df-quickchart\" onclick=\"quickchart('df-fbcd6cc4-53d0-4b27-b000-fc0c4af5c4b2')\"\n",
              "            title=\"Suggest charts\"\n",
              "            style=\"display:none;\">\n",
              "\n",
              "<svg xmlns=\"http://www.w3.org/2000/svg\" height=\"24px\"viewBox=\"0 0 24 24\"\n",
              "     width=\"24px\">\n",
              "    <g>\n",
              "        <path d=\"M19 3H5c-1.1 0-2 .9-2 2v14c0 1.1.9 2 2 2h14c1.1 0 2-.9 2-2V5c0-1.1-.9-2-2-2zM9 17H7v-7h2v7zm4 0h-2V7h2v10zm4 0h-2v-4h2v4z\"/>\n",
              "    </g>\n",
              "</svg>\n",
              "  </button>\n",
              "\n",
              "<style>\n",
              "  .colab-df-quickchart {\n",
              "      --bg-color: #E8F0FE;\n",
              "      --fill-color: #1967D2;\n",
              "      --hover-bg-color: #E2EBFA;\n",
              "      --hover-fill-color: #174EA6;\n",
              "      --disabled-fill-color: #AAA;\n",
              "      --disabled-bg-color: #DDD;\n",
              "  }\n",
              "\n",
              "  [theme=dark] .colab-df-quickchart {\n",
              "      --bg-color: #3B4455;\n",
              "      --fill-color: #D2E3FC;\n",
              "      --hover-bg-color: #434B5C;\n",
              "      --hover-fill-color: #FFFFFF;\n",
              "      --disabled-bg-color: #3B4455;\n",
              "      --disabled-fill-color: #666;\n",
              "  }\n",
              "\n",
              "  .colab-df-quickchart {\n",
              "    background-color: var(--bg-color);\n",
              "    border: none;\n",
              "    border-radius: 50%;\n",
              "    cursor: pointer;\n",
              "    display: none;\n",
              "    fill: var(--fill-color);\n",
              "    height: 32px;\n",
              "    padding: 0;\n",
              "    width: 32px;\n",
              "  }\n",
              "\n",
              "  .colab-df-quickchart:hover {\n",
              "    background-color: var(--hover-bg-color);\n",
              "    box-shadow: 0 1px 2px rgba(60, 64, 67, 0.3), 0 1px 3px 1px rgba(60, 64, 67, 0.15);\n",
              "    fill: var(--button-hover-fill-color);\n",
              "  }\n",
              "\n",
              "  .colab-df-quickchart-complete:disabled,\n",
              "  .colab-df-quickchart-complete:disabled:hover {\n",
              "    background-color: var(--disabled-bg-color);\n",
              "    fill: var(--disabled-fill-color);\n",
              "    box-shadow: none;\n",
              "  }\n",
              "\n",
              "  .colab-df-spinner {\n",
              "    border: 2px solid var(--fill-color);\n",
              "    border-color: transparent;\n",
              "    border-bottom-color: var(--fill-color);\n",
              "    animation:\n",
              "      spin 1s steps(1) infinite;\n",
              "  }\n",
              "\n",
              "  @keyframes spin {\n",
              "    0% {\n",
              "      border-color: transparent;\n",
              "      border-bottom-color: var(--fill-color);\n",
              "      border-left-color: var(--fill-color);\n",
              "    }\n",
              "    20% {\n",
              "      border-color: transparent;\n",
              "      border-left-color: var(--fill-color);\n",
              "      border-top-color: var(--fill-color);\n",
              "    }\n",
              "    30% {\n",
              "      border-color: transparent;\n",
              "      border-left-color: var(--fill-color);\n",
              "      border-top-color: var(--fill-color);\n",
              "      border-right-color: var(--fill-color);\n",
              "    }\n",
              "    40% {\n",
              "      border-color: transparent;\n",
              "      border-right-color: var(--fill-color);\n",
              "      border-top-color: var(--fill-color);\n",
              "    }\n",
              "    60% {\n",
              "      border-color: transparent;\n",
              "      border-right-color: var(--fill-color);\n",
              "    }\n",
              "    80% {\n",
              "      border-color: transparent;\n",
              "      border-right-color: var(--fill-color);\n",
              "      border-bottom-color: var(--fill-color);\n",
              "    }\n",
              "    90% {\n",
              "      border-color: transparent;\n",
              "      border-bottom-color: var(--fill-color);\n",
              "    }\n",
              "  }\n",
              "</style>\n",
              "\n",
              "  <script>\n",
              "    async function quickchart(key) {\n",
              "      const quickchartButtonEl =\n",
              "        document.querySelector('#' + key + ' button');\n",
              "      quickchartButtonEl.disabled = true;  // To prevent multiple clicks.\n",
              "      quickchartButtonEl.classList.add('colab-df-spinner');\n",
              "      try {\n",
              "        const charts = await google.colab.kernel.invokeFunction(\n",
              "            'suggestCharts', [key], {});\n",
              "      } catch (error) {\n",
              "        console.error('Error during call to suggestCharts:', error);\n",
              "      }\n",
              "      quickchartButtonEl.classList.remove('colab-df-spinner');\n",
              "      quickchartButtonEl.classList.add('colab-df-quickchart-complete');\n",
              "    }\n",
              "    (() => {\n",
              "      let quickchartButtonEl =\n",
              "        document.querySelector('#df-fbcd6cc4-53d0-4b27-b000-fc0c4af5c4b2 button');\n",
              "      quickchartButtonEl.style.display =\n",
              "        google.colab.kernel.accessAllowed ? 'block' : 'none';\n",
              "    })();\n",
              "  </script>\n",
              "</div>\n",
              "\n",
              "  <div id=\"id_c6518cc1-9996-416a-921d-b6e3382070a4\">\n",
              "    <style>\n",
              "      .colab-df-generate {\n",
              "        background-color: #E8F0FE;\n",
              "        border: none;\n",
              "        border-radius: 50%;\n",
              "        cursor: pointer;\n",
              "        display: none;\n",
              "        fill: #1967D2;\n",
              "        height: 32px;\n",
              "        padding: 0 0 0 0;\n",
              "        width: 32px;\n",
              "      }\n",
              "\n",
              "      .colab-df-generate:hover {\n",
              "        background-color: #E2EBFA;\n",
              "        box-shadow: 0px 1px 2px rgba(60, 64, 67, 0.3), 0px 1px 3px 1px rgba(60, 64, 67, 0.15);\n",
              "        fill: #174EA6;\n",
              "      }\n",
              "\n",
              "      [theme=dark] .colab-df-generate {\n",
              "        background-color: #3B4455;\n",
              "        fill: #D2E3FC;\n",
              "      }\n",
              "\n",
              "      [theme=dark] .colab-df-generate:hover {\n",
              "        background-color: #434B5C;\n",
              "        box-shadow: 0px 1px 3px 1px rgba(0, 0, 0, 0.15);\n",
              "        filter: drop-shadow(0px 1px 2px rgba(0, 0, 0, 0.3));\n",
              "        fill: #FFFFFF;\n",
              "      }\n",
              "    </style>\n",
              "    <button class=\"colab-df-generate\" onclick=\"generateWithVariable('selected_columns')\"\n",
              "            title=\"Generate code using this dataframe.\"\n",
              "            style=\"display:none;\">\n",
              "\n",
              "  <svg xmlns=\"http://www.w3.org/2000/svg\" height=\"24px\"viewBox=\"0 0 24 24\"\n",
              "       width=\"24px\">\n",
              "    <path d=\"M7,19H8.4L18.45,9,17,7.55,7,17.6ZM5,21V16.75L18.45,3.32a2,2,0,0,1,2.83,0l1.4,1.43a1.91,1.91,0,0,1,.58,1.4,1.91,1.91,0,0,1-.58,1.4L9.25,21ZM18.45,9,17,7.55Zm-12,3A5.31,5.31,0,0,0,4.9,8.1,5.31,5.31,0,0,0,1,6.5,5.31,5.31,0,0,0,4.9,4.9,5.31,5.31,0,0,0,6.5,1,5.31,5.31,0,0,0,8.1,4.9,5.31,5.31,0,0,0,12,6.5,5.46,5.46,0,0,0,6.5,12Z\"/>\n",
              "  </svg>\n",
              "    </button>\n",
              "    <script>\n",
              "      (() => {\n",
              "      const buttonEl =\n",
              "        document.querySelector('#id_c6518cc1-9996-416a-921d-b6e3382070a4 button.colab-df-generate');\n",
              "      buttonEl.style.display =\n",
              "        google.colab.kernel.accessAllowed ? 'block' : 'none';\n",
              "\n",
              "      buttonEl.onclick = () => {\n",
              "        google.colab.notebook.generateWithVariable('selected_columns');\n",
              "      }\n",
              "      })();\n",
              "    </script>\n",
              "  </div>\n",
              "\n",
              "    </div>\n",
              "  </div>\n"
            ]
          },
          "metadata": {},
          "execution_count": 42
        }
      ]
    },
    {
      "cell_type": "code",
      "source": [
        "dummy = None  # Initialize dummy variable\n",
        "for num in tqdm(columns_ohe):\n",
        "    dummy_ = pd.get_dummies(air_X.iloc[:, num], sparse=True)\n",
        "    if dummy is not None:\n",
        "        dummy = pd.concat([dummy, dummy_], axis=1)\n",
        "    else:\n",
        "        dummy = dummy_\n"
      ],
      "metadata": {
        "colab": {
          "base_uri": "https://localhost:8080/"
        },
        "id": "Q5u5ryz972IK",
        "outputId": "4c25ac04-87d5-4ce6-addb-908a6c518c5f"
      },
      "execution_count": null,
      "outputs": [
        {
          "output_type": "stream",
          "name": "stderr",
          "text": [
            "100%|██████████| 26/26 [00:02<00:00,  9.61it/s]\n"
          ]
        }
      ]
    },
    {
      "cell_type": "code",
      "source": [
        "dupe = air_X.drop(air_X.columns[columns_ohe], axis=1)"
      ],
      "metadata": {
        "id": "VS_zJBYn75b4"
      },
      "execution_count": null,
      "outputs": []
    },
    {
      "cell_type": "code",
      "source": [
        "dupe = np.concatenate((dupe,dummy),axis=1)"
      ],
      "metadata": {
        "id": "WDLlHj4F77Tb"
      },
      "execution_count": null,
      "outputs": []
    },
    {
      "cell_type": "code",
      "source": [
        "list(dupe[1,:])"
      ],
      "metadata": {
        "colab": {
          "base_uri": "https://localhost:8080/"
        },
        "id": "9YJHH2JA79hF",
        "outputId": "94f33f1c-df2c-488b-c1b2-a80c864723df"
      },
      "execution_count": null,
      "outputs": [
        {
          "output_type": "execute_result",
          "data": {
            "text/plain": [
              "[100,\n",
              " 88.0,\n",
              " 1,\n",
              " 30.24731296098833,\n",
              " -97.74221663315112,\n",
              " 4,\n",
              " 1.0,\n",
              " 2,\n",
              " 2,\n",
              " 0,\n",
              " 0,\n",
              " 1,\n",
              " 0,\n",
              " 1,\n",
              " 1125,\n",
              " False,\n",
              " 7,\n",
              " 7,\n",
              " 7,\n",
              " 7,\n",
              " 0,\n",
              " 93,\n",
              " 10,\n",
              " 9,\n",
              " 10,\n",
              " 10,\n",
              " 9,\n",
              " 9,\n",
              " 1,\n",
              " 1.486740022653255,\n",
              " 96,\n",
              " 0,\n",
              " 1,\n",
              " 0,\n",
              " 0,\n",
              " 0,\n",
              " 0,\n",
              " 0,\n",
              " 0,\n",
              " 0,\n",
              " 0,\n",
              " 0,\n",
              " 0,\n",
              " 0,\n",
              " 0,\n",
              " 0,\n",
              " 0,\n",
              " 0,\n",
              " 0,\n",
              " 0,\n",
              " 1,\n",
              " 0,\n",
              " 0,\n",
              " 0,\n",
              " 0,\n",
              " 0,\n",
              " 0,\n",
              " 0,\n",
              " 0,\n",
              " 0,\n",
              " 0,\n",
              " 0,\n",
              " 0,\n",
              " 0,\n",
              " 0,\n",
              " 0,\n",
              " 0,\n",
              " 0,\n",
              " 0,\n",
              " 0,\n",
              " 0,\n",
              " 0,\n",
              " 0,\n",
              " 0,\n",
              " 0,\n",
              " 0,\n",
              " 0,\n",
              " 0,\n",
              " 0,\n",
              " 0,\n",
              " 0,\n",
              " 0,\n",
              " 0,\n",
              " 0,\n",
              " 0,\n",
              " 0,\n",
              " 0,\n",
              " 0,\n",
              " 0,\n",
              " 0,\n",
              " 0,\n",
              " 0,\n",
              " 0,\n",
              " 0,\n",
              " 0,\n",
              " 0,\n",
              " 0,\n",
              " 0,\n",
              " 0,\n",
              " 0,\n",
              " 0,\n",
              " 0,\n",
              " 0,\n",
              " 0,\n",
              " 0,\n",
              " 0,\n",
              " 0,\n",
              " 0,\n",
              " 0,\n",
              " 0,\n",
              " 0,\n",
              " 0,\n",
              " 0,\n",
              " 0,\n",
              " 0,\n",
              " 0,\n",
              " 0,\n",
              " 0,\n",
              " 0,\n",
              " 0,\n",
              " 0,\n",
              " 0,\n",
              " 0,\n",
              " 0,\n",
              " 0,\n",
              " 0,\n",
              " 0,\n",
              " 0,\n",
              " 0,\n",
              " 0,\n",
              " 0,\n",
              " 0,\n",
              " 0,\n",
              " 0,\n",
              " 0,\n",
              " 0,\n",
              " 0,\n",
              " 0,\n",
              " 0,\n",
              " 0,\n",
              " 0,\n",
              " 0,\n",
              " 0,\n",
              " 0,\n",
              " 0,\n",
              " 0,\n",
              " 0,\n",
              " 0,\n",
              " 0,\n",
              " 0,\n",
              " 0,\n",
              " 0,\n",
              " 0,\n",
              " 0,\n",
              " 0,\n",
              " 0,\n",
              " 0,\n",
              " 0,\n",
              " 0,\n",
              " 0,\n",
              " 0,\n",
              " 0,\n",
              " 0,\n",
              " 0,\n",
              " 0,\n",
              " 0,\n",
              " 0,\n",
              " 0,\n",
              " 0,\n",
              " 0,\n",
              " 0,\n",
              " 0,\n",
              " 0,\n",
              " 0,\n",
              " 0,\n",
              " 0,\n",
              " 0,\n",
              " 0,\n",
              " 0,\n",
              " 0,\n",
              " 0,\n",
              " 0,\n",
              " 0,\n",
              " 0,\n",
              " 0,\n",
              " 0,\n",
              " 0,\n",
              " 0,\n",
              " 0,\n",
              " 0,\n",
              " 0,\n",
              " 0,\n",
              " 0,\n",
              " 0,\n",
              " 0,\n",
              " 0,\n",
              " 0,\n",
              " 0,\n",
              " 0,\n",
              " 0,\n",
              " 0,\n",
              " 0,\n",
              " 0,\n",
              " 0,\n",
              " 0,\n",
              " 0,\n",
              " 0,\n",
              " 0,\n",
              " 0,\n",
              " 0,\n",
              " 0,\n",
              " 0,\n",
              " 0,\n",
              " 0,\n",
              " 0,\n",
              " 0,\n",
              " 0,\n",
              " 0,\n",
              " 0,\n",
              " 0,\n",
              " 0,\n",
              " 0,\n",
              " 0,\n",
              " 0,\n",
              " 0,\n",
              " 0,\n",
              " 0,\n",
              " 0,\n",
              " 0,\n",
              " 0,\n",
              " 0,\n",
              " 0,\n",
              " 0,\n",
              " 0,\n",
              " 0,\n",
              " 0,\n",
              " 0,\n",
              " 0,\n",
              " 0,\n",
              " 0,\n",
              " 0,\n",
              " 0,\n",
              " 0,\n",
              " 0,\n",
              " 0,\n",
              " 0,\n",
              " 0,\n",
              " 0,\n",
              " 0,\n",
              " 0,\n",
              " 0,\n",
              " 0,\n",
              " 0,\n",
              " 0,\n",
              " 0,\n",
              " 0,\n",
              " 0,\n",
              " 0,\n",
              " 0,\n",
              " 0,\n",
              " 0,\n",
              " 0,\n",
              " 0,\n",
              " 0,\n",
              " 0,\n",
              " 0,\n",
              " 0,\n",
              " 0,\n",
              " 0,\n",
              " 0,\n",
              " 0,\n",
              " 0,\n",
              " 0,\n",
              " 0,\n",
              " 0,\n",
              " 0,\n",
              " 0,\n",
              " 0,\n",
              " 0,\n",
              " 0,\n",
              " 0,\n",
              " 0,\n",
              " 0,\n",
              " 0,\n",
              " 0,\n",
              " 0,\n",
              " 0,\n",
              " 0,\n",
              " 0,\n",
              " 0,\n",
              " 0,\n",
              " 0,\n",
              " 0,\n",
              " 0,\n",
              " 0,\n",
              " 0,\n",
              " 0,\n",
              " 0,\n",
              " 0,\n",
              " 0,\n",
              " 0,\n",
              " 0,\n",
              " 0,\n",
              " 0,\n",
              " 0,\n",
              " 0,\n",
              " 0,\n",
              " 0,\n",
              " 0,\n",
              " 0,\n",
              " 0,\n",
              " 0,\n",
              " 0,\n",
              " 0,\n",
              " 0,\n",
              " 0,\n",
              " 0,\n",
              " 0,\n",
              " 0,\n",
              " 0,\n",
              " 0,\n",
              " 0,\n",
              " 0,\n",
              " 0,\n",
              " 0,\n",
              " 0,\n",
              " 0,\n",
              " 0,\n",
              " 0,\n",
              " 0,\n",
              " 0,\n",
              " 0,\n",
              " 0,\n",
              " 0,\n",
              " 0,\n",
              " 0,\n",
              " 0,\n",
              " 0,\n",
              " 0,\n",
              " 0,\n",
              " 0,\n",
              " 0,\n",
              " 0,\n",
              " 0,\n",
              " 0,\n",
              " 0,\n",
              " 0,\n",
              " 0,\n",
              " 0,\n",
              " 0,\n",
              " 0,\n",
              " 0,\n",
              " 0,\n",
              " 0,\n",
              " 0,\n",
              " 0,\n",
              " 0,\n",
              " 0,\n",
              " 0,\n",
              " 0,\n",
              " 0,\n",
              " 0,\n",
              " 0,\n",
              " 0,\n",
              " 0,\n",
              " 0,\n",
              " 0,\n",
              " 0,\n",
              " 0,\n",
              " 0,\n",
              " 0,\n",
              " 0,\n",
              " 0,\n",
              " 0,\n",
              " 0,\n",
              " 0,\n",
              " 0,\n",
              " 0,\n",
              " 0,\n",
              " 0,\n",
              " 0,\n",
              " 0,\n",
              " 0,\n",
              " 0,\n",
              " 0,\n",
              " 0,\n",
              " 0,\n",
              " 0,\n",
              " 0,\n",
              " 0,\n",
              " 0,\n",
              " 0,\n",
              " 0,\n",
              " 0,\n",
              " 0,\n",
              " 0,\n",
              " 0,\n",
              " 0,\n",
              " 0,\n",
              " 0,\n",
              " 0,\n",
              " 0,\n",
              " 0,\n",
              " 0,\n",
              " 0,\n",
              " 0,\n",
              " 0,\n",
              " 0,\n",
              " 0,\n",
              " 0,\n",
              " 0,\n",
              " 0,\n",
              " 0,\n",
              " 0,\n",
              " 0,\n",
              " 0,\n",
              " 0,\n",
              " 0,\n",
              " 0,\n",
              " 0,\n",
              " 0,\n",
              " 0,\n",
              " 0,\n",
              " 0,\n",
              " 0,\n",
              " 0,\n",
              " 0,\n",
              " 0,\n",
              " 0,\n",
              " 0,\n",
              " 0,\n",
              " 0,\n",
              " 0,\n",
              " 0,\n",
              " 0,\n",
              " 0,\n",
              " 0,\n",
              " 0,\n",
              " 0,\n",
              " 0,\n",
              " 0,\n",
              " 0,\n",
              " 0,\n",
              " 0,\n",
              " 0,\n",
              " 0,\n",
              " 0,\n",
              " 0,\n",
              " 0,\n",
              " 0,\n",
              " 0,\n",
              " 0,\n",
              " 0,\n",
              " 0,\n",
              " 0,\n",
              " 0,\n",
              " 0,\n",
              " 0,\n",
              " 0,\n",
              " 0,\n",
              " 0,\n",
              " 0,\n",
              " 0,\n",
              " 0,\n",
              " 0,\n",
              " 0,\n",
              " 0,\n",
              " 0,\n",
              " 0,\n",
              " 0,\n",
              " 0,\n",
              " 0,\n",
              " 0,\n",
              " 0,\n",
              " 0,\n",
              " 0,\n",
              " 0,\n",
              " 0,\n",
              " 0,\n",
              " 0,\n",
              " 1,\n",
              " 0,\n",
              " 0,\n",
              " 0,\n",
              " 0,\n",
              " 0,\n",
              " 0,\n",
              " 0,\n",
              " 0,\n",
              " 0,\n",
              " 0,\n",
              " 0,\n",
              " 0,\n",
              " 0,\n",
              " 0,\n",
              " 0,\n",
              " 0,\n",
              " 0,\n",
              " 0,\n",
              " 0,\n",
              " 0,\n",
              " 0,\n",
              " 0,\n",
              " 0,\n",
              " 0,\n",
              " 0,\n",
              " 0,\n",
              " 0,\n",
              " 0,\n",
              " 0,\n",
              " 0,\n",
              " 0,\n",
              " 0,\n",
              " 0,\n",
              " 0,\n",
              " 0,\n",
              " 0,\n",
              " 0,\n",
              " 0,\n",
              " 0,\n",
              " 0,\n",
              " 0,\n",
              " 0,\n",
              " 0,\n",
              " 0,\n",
              " 0,\n",
              " 0,\n",
              " 0,\n",
              " 0,\n",
              " 0,\n",
              " 0,\n",
              " 0,\n",
              " 0,\n",
              " 0,\n",
              " 0,\n",
              " 0,\n",
              " 0,\n",
              " 0,\n",
              " 0,\n",
              " 0,\n",
              " 0,\n",
              " 0,\n",
              " 0,\n",
              " 0,\n",
              " 0,\n",
              " 0,\n",
              " 0,\n",
              " 0,\n",
              " 0,\n",
              " 0,\n",
              " 0,\n",
              " 0,\n",
              " 0,\n",
              " 0,\n",
              " 0,\n",
              " 0,\n",
              " 0,\n",
              " 0,\n",
              " 0,\n",
              " 0,\n",
              " 0,\n",
              " 0,\n",
              " 0,\n",
              " 0,\n",
              " 0,\n",
              " 0,\n",
              " 0,\n",
              " 0,\n",
              " 0,\n",
              " 0,\n",
              " 0,\n",
              " 0,\n",
              " 0,\n",
              " 0,\n",
              " 0,\n",
              " 0,\n",
              " 0,\n",
              " 0,\n",
              " 0,\n",
              " 0,\n",
              " 0,\n",
              " 0,\n",
              " 0,\n",
              " 0,\n",
              " 0,\n",
              " 0,\n",
              " 0,\n",
              " 0,\n",
              " 0,\n",
              " 0,\n",
              " 0,\n",
              " 0,\n",
              " 0,\n",
              " 0,\n",
              " 0,\n",
              " 0,\n",
              " 0,\n",
              " 0,\n",
              " 0,\n",
              " 0,\n",
              " 0,\n",
              " 0,\n",
              " 0,\n",
              " 0,\n",
              " 0,\n",
              " 0,\n",
              " 0,\n",
              " 0,\n",
              " 0,\n",
              " 0,\n",
              " 0,\n",
              " 0,\n",
              " 0,\n",
              " 0,\n",
              " 0,\n",
              " 0,\n",
              " 0,\n",
              " 0,\n",
              " 0,\n",
              " 0,\n",
              " 0,\n",
              " 0,\n",
              " 0,\n",
              " 0,\n",
              " 0,\n",
              " 0,\n",
              " 0,\n",
              " 0,\n",
              " 0,\n",
              " 0,\n",
              " 0,\n",
              " 0,\n",
              " 0,\n",
              " 0,\n",
              " 0,\n",
              " 0,\n",
              " 0,\n",
              " 0,\n",
              " 0,\n",
              " 0,\n",
              " 0,\n",
              " 0,\n",
              " 0,\n",
              " 0,\n",
              " 0,\n",
              " 0,\n",
              " 0,\n",
              " 0,\n",
              " 0,\n",
              " 0,\n",
              " 0,\n",
              " 0,\n",
              " 0,\n",
              " 0,\n",
              " 0,\n",
              " 0,\n",
              " 0,\n",
              " 0,\n",
              " 0,\n",
              " 0,\n",
              " 0,\n",
              " 0,\n",
              " 0,\n",
              " 0,\n",
              " 0,\n",
              " 0,\n",
              " 0,\n",
              " 0,\n",
              " 0,\n",
              " 0,\n",
              " 0,\n",
              " 0,\n",
              " 0,\n",
              " 0,\n",
              " 0,\n",
              " 0,\n",
              " 0,\n",
              " 0,\n",
              " 0,\n",
              " 0,\n",
              " 0,\n",
              " 0,\n",
              " 0,\n",
              " 0,\n",
              " 0,\n",
              " 0,\n",
              " 0,\n",
              " 0,\n",
              " 0,\n",
              " 0,\n",
              " 0,\n",
              " 0,\n",
              " 0,\n",
              " 0,\n",
              " 0,\n",
              " 0,\n",
              " 0,\n",
              " 0,\n",
              " 0,\n",
              " 0,\n",
              " 0,\n",
              " 0,\n",
              " 0,\n",
              " 0,\n",
              " 0,\n",
              " 0,\n",
              " 0,\n",
              " 0,\n",
              " 0,\n",
              " 0,\n",
              " 0,\n",
              " 0,\n",
              " 0,\n",
              " 0,\n",
              " 0,\n",
              " 0,\n",
              " 0,\n",
              " 0,\n",
              " 0,\n",
              " 0,\n",
              " 0,\n",
              " 0,\n",
              " 0,\n",
              " 0,\n",
              " 0,\n",
              " 0,\n",
              " 0,\n",
              " 0,\n",
              " 0,\n",
              " 0,\n",
              " 0,\n",
              " 0,\n",
              " 0,\n",
              " 0,\n",
              " 0,\n",
              " 0,\n",
              " 0,\n",
              " 0,\n",
              " 0,\n",
              " 0,\n",
              " 0,\n",
              " 0,\n",
              " 0,\n",
              " 0,\n",
              " 0,\n",
              " 0,\n",
              " 0,\n",
              " 0,\n",
              " 0,\n",
              " 0,\n",
              " 0,\n",
              " 0,\n",
              " 0,\n",
              " 0,\n",
              " 0,\n",
              " 0,\n",
              " 0,\n",
              " 0,\n",
              " 0,\n",
              " 0,\n",
              " 0,\n",
              " 0,\n",
              " 0,\n",
              " 0,\n",
              " 0,\n",
              " 0,\n",
              " 0,\n",
              " 0,\n",
              " 0,\n",
              " 0,\n",
              " 0,\n",
              " 0,\n",
              " 0,\n",
              " 0,\n",
              " 0,\n",
              " 0,\n",
              " 0,\n",
              " 0,\n",
              " 0,\n",
              " 0,\n",
              " 0,\n",
              " 0,\n",
              " 0,\n",
              " 0,\n",
              " 0,\n",
              " 0,\n",
              " 0,\n",
              " 0,\n",
              " 0,\n",
              " 0,\n",
              " 0,\n",
              " 0,\n",
              " 0,\n",
              " 0,\n",
              " 0,\n",
              " 0,\n",
              " 0,\n",
              " 0,\n",
              " 0,\n",
              " 0,\n",
              " 0,\n",
              " 0,\n",
              " 0,\n",
              " 0,\n",
              " 0,\n",
              " 0,\n",
              " 0,\n",
              " 0,\n",
              " 0,\n",
              " 0,\n",
              " 0,\n",
              " 0,\n",
              " 0,\n",
              " 0,\n",
              " 0,\n",
              " 0,\n",
              " 0,\n",
              " 0,\n",
              " 0,\n",
              " 0,\n",
              " 0,\n",
              " 0,\n",
              " 0,\n",
              " 0,\n",
              " 0,\n",
              " 0,\n",
              " 0,\n",
              " 0,\n",
              " 0,\n",
              " 0,\n",
              " 0,\n",
              " 0,\n",
              " 0,\n",
              " 0,\n",
              " 0,\n",
              " 0,\n",
              " 0,\n",
              " 0,\n",
              " 0,\n",
              " 0,\n",
              " 0,\n",
              " 0,\n",
              " 0,\n",
              " 0,\n",
              " 0,\n",
              " 0,\n",
              " 0,\n",
              " 0,\n",
              " 0,\n",
              " 0,\n",
              " 0,\n",
              " 0,\n",
              " 0,\n",
              " 0,\n",
              " 0,\n",
              " 0,\n",
              " 0,\n",
              " 0,\n",
              " 0,\n",
              " 0,\n",
              " 0,\n",
              " 0,\n",
              " 0,\n",
              " 0,\n",
              " 0,\n",
              " 0,\n",
              " 0,\n",
              " 0,\n",
              " 0,\n",
              " 0,\n",
              " 0,\n",
              " 0,\n",
              " 0,\n",
              " 0,\n",
              " 0,\n",
              " 0,\n",
              " 0,\n",
              " 0,\n",
              " 0,\n",
              " 0,\n",
              " 0,\n",
              " 0,\n",
              " 0,\n",
              " 0,\n",
              " 0,\n",
              " 0,\n",
              " 0,\n",
              " 0,\n",
              " 0,\n",
              " 0,\n",
              " 0,\n",
              " 0,\n",
              " 0,\n",
              " 0,\n",
              " 0,\n",
              " 0,\n",
              " 0,\n",
              " 0,\n",
              " 0,\n",
              " 0,\n",
              " 0,\n",
              " 0,\n",
              " 0,\n",
              " 0,\n",
              " 0,\n",
              " 0,\n",
              " 0,\n",
              " 0,\n",
              " 0,\n",
              " 0,\n",
              " 0,\n",
              " 0,\n",
              " 0,\n",
              " 0,\n",
              " 0,\n",
              " 0,\n",
              " 0,\n",
              " 0,\n",
              " 0,\n",
              " 0,\n",
              " 0,\n",
              " 0,\n",
              " 0,\n",
              " 0,\n",
              " 0,\n",
              " 0,\n",
              " 0,\n",
              " 0,\n",
              " 0,\n",
              " 0,\n",
              " 0,\n",
              " 0,\n",
              " 0,\n",
              " 0,\n",
              " 0,\n",
              " 0,\n",
              " 0,\n",
              " 0,\n",
              " 0,\n",
              " 0,\n",
              " 0,\n",
              " 0,\n",
              " 0,\n",
              " 0,\n",
              " 0,\n",
              " 0,\n",
              " 0,\n",
              " 0,\n",
              " 0,\n",
              " 0,\n",
              " 0,\n",
              " 0,\n",
              " 0,\n",
              " 0,\n",
              " 0,\n",
              " 0,\n",
              " 0,\n",
              " 0,\n",
              " 0,\n",
              " 0,\n",
              " 0,\n",
              " 0,\n",
              " 0,\n",
              " 0,\n",
              " 0,\n",
              " 0,\n",
              " 0,\n",
              " 0,\n",
              " 0,\n",
              " 0,\n",
              " 0,\n",
              " 0,\n",
              " 0,\n",
              " 0,\n",
              " 0,\n",
              " 0,\n",
              " 0,\n",
              " 0,\n",
              " 0,\n",
              " 0,\n",
              " 0,\n",
              " 0,\n",
              " 0,\n",
              " 0,\n",
              " 0,\n",
              " 0,\n",
              " 0,\n",
              " 0,\n",
              " 0,\n",
              " 0,\n",
              " 0,\n",
              " 0,\n",
              " 0,\n",
              " 0,\n",
              " 0,\n",
              " 0,\n",
              " 0,\n",
              " 0,\n",
              " 0,\n",
              " 0,\n",
              " ...]"
            ]
          },
          "metadata": {},
          "execution_count": 46
        }
      ]
    },
    {
      "cell_type": "code",
      "source": [
        "air_X = air_X.drop(air_X.columns[columns_ohe], axis=1)"
      ],
      "metadata": {
        "id": "XiRcesq-ScDH"
      },
      "execution_count": null,
      "outputs": []
    },
    {
      "cell_type": "code",
      "source": [
        "air_X = pd.concat([air_X, dummy], axis=1)"
      ],
      "metadata": {
        "id": "pwkP2UTeSdgK"
      },
      "execution_count": null,
      "outputs": []
    },
    {
      "cell_type": "code",
      "source": [
        "row_values = air_X.iloc[1, :]\n",
        "row_values"
      ],
      "metadata": {
        "colab": {
          "base_uri": "https://localhost:8080/"
        },
        "id": "F6qN-SdgSfr8",
        "outputId": "0df0bb1f-06ab-4c37-dd78-bc159ecc0b29"
      },
      "execution_count": null,
      "outputs": [
        {
          "output_type": "execute_result",
          "data": {
            "text/plain": [
              "Host Response Rate           100.000000\n",
              "Host Acceptance Rate          88.000000\n",
              "Host Total Listings Count      1.000000\n",
              "Latitude                      30.247313\n",
              "Longitude                    -97.742217\n",
              "                                ...    \n",
              "yes                            0.000000\n",
              "no                             1.000000\n",
              "yes                            0.000000\n",
              "no                             0.000000\n",
              "yes                            1.000000\n",
              "Name: 1, Length: 1129, dtype: Sparse[float64, 0]"
            ]
          },
          "metadata": {},
          "execution_count": 49
        }
      ]
    },
    {
      "cell_type": "code",
      "source": [
        "np.random.seed(0)\n",
        "number_of_samples = len(air_X)\n",
        "random_indices = np.random.permutation(number_of_samples)\n",
        "\n",
        "num_training_samples = int(number_of_samples * 0.75)\n",
        "\n",
        "# Splitting both air_X and air_Y using the same shuffled indices for rows\n",
        "air_X_train = air_X.iloc[random_indices[:num_training_samples]]\n",
        "air_y_train = air_y.iloc[random_indices[:num_training_samples]]\n",
        "\n",
        "air_X_validation = air_X.iloc[random_indices[num_training_samples:]]\n",
        "air_y_validation = air_y.iloc[random_indices[num_training_samples:]]"
      ],
      "metadata": {
        "id": "IcEZmDsxSh3U"
      },
      "execution_count": null,
      "outputs": []
    },
    {
      "cell_type": "code",
      "source": [
        "len(air_X_train)"
      ],
      "metadata": {
        "colab": {
          "base_uri": "https://localhost:8080/"
        },
        "id": "H8Q2M4daSpGK",
        "outputId": "6c6ca69e-3626-4f56-ae43-9bb56b2b8945"
      },
      "execution_count": null,
      "outputs": [
        {
          "output_type": "execute_result",
          "data": {
            "text/plain": [
              "99436"
            ]
          },
          "metadata": {},
          "execution_count": 51
        }
      ]
    },
    {
      "cell_type": "code",
      "source": [
        "len(air_y_train)"
      ],
      "metadata": {
        "colab": {
          "base_uri": "https://localhost:8080/"
        },
        "id": "KlWMns9kSp94",
        "outputId": "6fe8d6f0-c89a-46a9-84f4-b19c3871c724"
      },
      "execution_count": null,
      "outputs": [
        {
          "output_type": "execute_result",
          "data": {
            "text/plain": [
              "99436"
            ]
          },
          "metadata": {},
          "execution_count": 52
        }
      ]
    },
    {
      "cell_type": "code",
      "source": [
        "len(air_X_validation)"
      ],
      "metadata": {
        "colab": {
          "base_uri": "https://localhost:8080/"
        },
        "id": "SWeXQgbBStC8",
        "outputId": "b200cb4a-4c85-425d-9fd3-41966d0f8748"
      },
      "execution_count": null,
      "outputs": [
        {
          "output_type": "execute_result",
          "data": {
            "text/plain": [
              "33146"
            ]
          },
          "metadata": {},
          "execution_count": 53
        }
      ]
    },
    {
      "cell_type": "code",
      "source": [
        "len(air_y_validation)"
      ],
      "metadata": {
        "colab": {
          "base_uri": "https://localhost:8080/"
        },
        "id": "FxOnXzx4SwRk",
        "outputId": "fc3686d5-1959-444e-f52f-fdeafb3c18dc"
      },
      "execution_count": null,
      "outputs": [
        {
          "output_type": "execute_result",
          "data": {
            "text/plain": [
              "33146"
            ]
          },
          "metadata": {},
          "execution_count": 54
        }
      ]
    },
    {
      "cell_type": "markdown",
      "source": [
        "**Standard Scalling**"
      ],
      "metadata": {
        "id": "ndGTCsqrS2L4"
      }
    },
    {
      "cell_type": "code",
      "source": [
        "from sklearn.preprocessing import StandardScaler\n",
        "\n",
        "# Convert all feature names to strings\n",
        "air_X_train.columns = air_X_train.columns.astype(str)\n",
        "air_X_validation.columns = air_X_validation.columns.astype(str)\n",
        "\n",
        "# Initialize the scaler\n",
        "scaler = StandardScaler()\n",
        "\n",
        "# Fit on the training set only.\n",
        "scaler.fit(air_X_train)\n",
        "\n",
        "# Apply transform to both the training set and the validation set.\n",
        "air_X_train_scaled = scaler.transform(air_X_train)\n",
        "air_X_validation_scaled = scaler.transform(air_X_validation)\n",
        "\n",
        "# Apply transform to future data that is the test set.\n",
        "# Note: You should use a different variable for the scaled test set.\n",
        "# air_X_test_scaled = scaler.transform(air_X_test)\n"
      ],
      "metadata": {
        "id": "QOxM3TBmSyLM"
      },
      "execution_count": null,
      "outputs": []
    },
    {
      "cell_type": "code",
      "source": [
        "air_X_train.shape"
      ],
      "metadata": {
        "colab": {
          "base_uri": "https://localhost:8080/"
        },
        "id": "Dq2m0_0OTWED",
        "outputId": "7fdb1df9-59ca-4934-d571-b7cb73374e28"
      },
      "execution_count": null,
      "outputs": [
        {
          "output_type": "execute_result",
          "data": {
            "text/plain": [
              "(99436, 1129)"
            ]
          },
          "metadata": {},
          "execution_count": 56
        }
      ]
    },
    {
      "cell_type": "code",
      "source": [
        "air_X_validation.shape"
      ],
      "metadata": {
        "colab": {
          "base_uri": "https://localhost:8080/"
        },
        "id": "exHB3qHSTXBf",
        "outputId": "6ec1467e-5543-4250-d3ed-6714d8fdf53b"
      },
      "execution_count": null,
      "outputs": [
        {
          "output_type": "execute_result",
          "data": {
            "text/plain": [
              "(33146, 1129)"
            ]
          },
          "metadata": {},
          "execution_count": 57
        }
      ]
    },
    {
      "cell_type": "markdown",
      "source": [
        "**PCA**"
      ],
      "metadata": {
        "id": "VrTo3fcDSyhd"
      }
    },
    {
      "cell_type": "code",
      "source": [
        "#from sklearn.decomposition import PCA\n",
        "# Make an instance of the Model\n",
        "#pca = PCA(.95)\n",
        "#pca.fit(air_X_train)\n",
        "#air_X_train = pca.transform(air_X_train)\n",
        "#air_X_validation = pca.transform(air_X_validation)"
      ],
      "metadata": {
        "id": "eEMzglA80MJ7"
      },
      "execution_count": null,
      "outputs": []
    },
    {
      "cell_type": "code",
      "source": [
        "#air_X_train.shape"
      ],
      "metadata": {
        "colab": {
          "base_uri": "https://localhost:8080/"
        },
        "id": "mhqMcL490Ttv",
        "outputId": "eda2d91c-46a8-4ebc-eb91-7ead5788eaa2"
      },
      "execution_count": null,
      "outputs": [
        {
          "output_type": "execute_result",
          "data": {
            "text/plain": [
              "(99436, 1)"
            ]
          },
          "metadata": {},
          "execution_count": 27
        }
      ]
    },
    {
      "cell_type": "code",
      "source": [
        "#air_X_validation.shape"
      ],
      "metadata": {
        "colab": {
          "base_uri": "https://localhost:8080/"
        },
        "id": "cX8rqa9L0WlC",
        "outputId": "980d6d1d-fc5e-4955-83bd-609c2c47646c"
      },
      "execution_count": null,
      "outputs": [
        {
          "output_type": "execute_result",
          "data": {
            "text/plain": [
              "(33146, 1)"
            ]
          },
          "metadata": {},
          "execution_count": 28
        }
      ]
    },
    {
      "cell_type": "markdown",
      "source": [
        "Linear Regression"
      ],
      "metadata": {
        "id": "Jo_GuH8lTh42"
      }
    },
    {
      "cell_type": "code",
      "source": [
        "R2_train = []\n",
        "R2_valid = []"
      ],
      "metadata": {
        "id": "f6-VC_XqTZRL"
      },
      "execution_count": null,
      "outputs": []
    },
    {
      "cell_type": "code",
      "source": [
        "from sklearn.linear_model import LinearRegression\n",
        "model = LinearRegression()\n",
        "model.fit(air_X_train, air_y_train)\n",
        "air_linear_train_predicted = model.predict(air_X_train)\n",
        "air_linear_validation_predicted = model.predict(air_X_validation)"
      ],
      "metadata": {
        "id": "p8RXZ5qzTcHu"
      },
      "execution_count": null,
      "outputs": []
    },
    {
      "cell_type": "code",
      "source": [
        "from sklearn.metrics import r2_score,mean_squared_error\n",
        "r2_train_score = r2_score(air_y_train,air_linear_train_predicted)\n",
        "r2_test_score = r2_score(air_y_validation, air_linear_validation_predicted)\n",
        "R2_train.append(round(r2_train_score,2))"
      ],
      "metadata": {
        "id": "4xATMmuCTd9K"
      },
      "execution_count": null,
      "outputs": []
    },
    {
      "cell_type": "code",
      "source": [
        "# The coefficients\n",
        "#print(\"Coefficients: \\n\", model.coef_)\n",
        "# The mean squared error\n",
        "print(\"Training data -Mean squared error: %.2f\" % mean_squared_error(air_y_train, air_linear_train_predicted))\n",
        "print(\"Validation data - Mean squared error: %.2f\" % mean_squared_error(air_y_validation, air_linear_validation_predicted))\n",
        "# The coefficient of determination: 1 is perfect prediction\n",
        "print(\"Training data Coefficient of determination: %.2f\" % r2_score(air_y_train, air_linear_train_predicted))\n",
        "print(\"Validation data Coefficient of determination: %.2f\" % r2_score(air_y_validation, air_linear_validation_predicted))\n",
        "\n",
        "# Plot outputs\n",
        "plt.scatter(air_y_train, air_linear_train_predicted, color=\"black\")\n",
        "plt.scatter(air_y_validation, air_linear_validation_predicted, color=\"red\")\n",
        "\n",
        "#plt.plot(cars_y_validation, cars_linear_validation_predicted, color=\"blue\", linewidth=3)\n",
        "\n",
        "plt.xticks(())\n",
        "plt.yticks(())\n",
        "plt.title(\" Dot Chart - Linear Regression\")\n",
        "plt.xlabel(\"Actual Data\")\n",
        "plt.ylabel(\"Predicted Data\")\n",
        "\n",
        "plt.show()"
      ],
      "metadata": {
        "colab": {
          "base_uri": "https://localhost:8080/",
          "height": 517
        },
        "id": "4pFQcS_dTq_x",
        "outputId": "ff20f9a0-263c-4ad1-f9f9-59a305b7534a"
      },
      "execution_count": null,
      "outputs": [
        {
          "output_type": "stream",
          "name": "stdout",
          "text": [
            "Training data -Mean squared error: 8138.14\n",
            "Validation data - Mean squared error: 8869.18\n",
            "Training data Coefficient of determination: 0.57\n",
            "Validation data Coefficient of determination: 0.52\n"
          ]
        },
        {
          "output_type": "display_data",
          "data": {
            "text/plain": [
              "<Figure size 640x480 with 1 Axes>"
            ],
            "image/png": "[encoded data removed]"
          },
          "metadata": {}
        }
      ]
    },
    {
      "cell_type": "code",
      "source": [
        "from sklearn.metrics import r2_score\n",
        "import numpy as np\n",
        "\n",
        "# Number of samples\n",
        "n_train = len(air_y_train)\n",
        "n_validation = len(air_y_validation)\n",
        "\n",
        "# Number of predictors (features)\n",
        "k = len(model.coef_)\n",
        "\n",
        "# Calculate R2 scores\n",
        "r2_train = r2_score(air_y_train, air_linear_train_predicted)\n",
        "r2_validation = r2_score(air_y_validation, air_linear_validation_predicted)\n",
        "\n",
        "# Calculate adjusted R2 scores\n",
        "adjusted_r2_train = 1 - ((1 - r2_train) * (n_train - 1) / (n_train - k - 1))\n",
        "adjusted_r2_validation = 1 - ((1 - r2_validation) * (n_validation - 1) / (n_validation - k - 1))\n",
        "\n",
        "# Print the results\n",
        "print(\"Training data Coefficient of determination (R2): %.2f\" % r2_train)\n",
        "print(\"Adjusted R2 for Training data: %.2f\" % adjusted_r2_train)\n",
        "\n",
        "print(\"\\nValidation data Coefficient of determination (R2): %.2f\" % r2_validation)\n",
        "print(\"Adjusted R2 for Validation data: %.2f\" % adjusted_r2_validation)\n"
      ],
      "metadata": {
        "colab": {
          "base_uri": "https://localhost:8080/"
        },
        "id": "KrBpp2G1uGd8",
        "outputId": "0c76ae85-f0b3-4f78-90d8-03ad647eb41b"
      },
      "execution_count": null,
      "outputs": [
        {
          "output_type": "stream",
          "name": "stdout",
          "text": [
            "Training data Coefficient of determination (R2): 0.57\n",
            "Adjusted R2 for Training data: 0.56\n",
            "\n",
            "Validation data Coefficient of determination (R2): 0.52\n",
            "Adjusted R2 for Validation data: 0.50\n"
          ]
        }
      ]
    },
    {
      "cell_type": "code",
      "source": [
        "import matplotlib.pyplot as plt\n",
        "\n",
        "# Assuming 'air_y_validation' is the array of actual prices for validation data\n",
        "# 'air_linear_validation_predicted' is the array of predicted prices for validation data\n",
        "# Replace these with your actual variable names\n",
        "\n",
        "# Plotting the histogram with borders\n",
        "plt.figure(figsize=(8, 6))\n",
        "plt.hist(air_y_validation, bins=30, alpha=0.5, color='red', label='Actual Prices', edgecolor='black')\n",
        "plt.hist(air_linear_validation_predicted, bins=100, alpha=0.5, color='goldenrod', label='Predicted Prices (Validation)', edgecolor='black')\n",
        "plt.title('Histogram of Actual Prices vs. Predicted Prices (Validation Data)')\n",
        "plt.xlabel('Price')\n",
        "plt.ylabel('Frequency')\n",
        "plt.legend()\n",
        "\n",
        "# Set the range for the X-axis (replace min_value and max_value with your desired range)\n",
        "min_value = 0\n",
        "max_value = 1000\n",
        "plt.xlim(min_value, max_value)\n",
        "\n",
        "plt.show()\n"
      ],
      "metadata": {
        "colab": {
          "base_uri": "https://localhost:8080/",
          "height": 564
        },
        "id": "lUBHV-6a-qzD",
        "outputId": "3d9b6ffc-cd66-4d29-fe78-937f166addb1"
      },
      "execution_count": null,
      "outputs": [
        {
          "output_type": "display_data",
          "data": {
            "text/plain": [
              "<Figure size 800x600 with 1 Axes>"
            ],
            "image/png": "[encoded data removed]"
          },
          "metadata": {}
        }
      ]
    },
    {
      "cell_type": "markdown",
      "source": [
        "**Ridge Regression**"
      ],
      "metadata": {
        "id": "GuEjYukrTw7E"
      }
    },
    {
      "cell_type": "code",
      "source": [
        "from sklearn.linear_model import Ridge\n",
        "from sklearn.model_selection import RandomizedSearchCV\n",
        "\n",
        "# Creating Ridge model object\n",
        "rg = Ridge()\n",
        "# range of alpha\n",
        "alpha = np.logspace(-3,3,num=14)\n",
        "\n",
        "# Creating RandomizedSearchCV to find the best estimator of hyperparameter\n",
        "rg_rs = RandomizedSearchCV(estimator = rg, param_distributions = dict(alpha=alpha))"
      ],
      "metadata": {
        "id": "ira6xZOPTzAL"
      },
      "execution_count": null,
      "outputs": []
    },
    {
      "cell_type": "code",
      "source": [
        "rg_rs.fit(air_X_train, air_y_train)\n",
        "rg_rs.best_params_"
      ],
      "metadata": {
        "colab": {
          "base_uri": "https://localhost:8080/"
        },
        "id": "yzCDsBKBT1AS",
        "outputId": "f1c373fa-0590-4bb7-8d68-4b77c78cd1f4"
      },
      "execution_count": null,
      "outputs": [
        {
          "output_type": "execute_result",
          "data": {
            "text/plain": [
              "{'alpha': 4.923882631706742}"
            ]
          },
          "metadata": {},
          "execution_count": 73
        }
      ]
    },
    {
      "cell_type": "code",
      "source": [
        "air_ridge_train_predicted = rg_rs.predict(air_X_train)\n",
        "air_ridge_validation_predicted = rg_rs.predict(air_X_validation)"
      ],
      "metadata": {
        "id": "v7a79c2TT3Jd"
      },
      "execution_count": null,
      "outputs": []
    },
    {
      "cell_type": "code",
      "source": [
        "r2_score(air_y_train, air_ridge_train_predicted)"
      ],
      "metadata": {
        "colab": {
          "base_uri": "https://localhost:8080/"
        },
        "id": "iG3ap8AZT4xI",
        "outputId": "38e9ef77-4a63-478a-fde4-e2b11803cc1b"
      },
      "execution_count": null,
      "outputs": [
        {
          "output_type": "execute_result",
          "data": {
            "text/plain": [
              "0.5665433034454337"
            ]
          },
          "metadata": {},
          "execution_count": 75
        }
      ]
    },
    {
      "cell_type": "code",
      "source": [
        "r2_score(air_y_validation, air_ridge_validation_predicted)"
      ],
      "metadata": {
        "colab": {
          "base_uri": "https://localhost:8080/"
        },
        "id": "U202C_XLT6Si",
        "outputId": "f480d4a4-fb98-4815-ae0e-0bd04a38f31f"
      },
      "execution_count": null,
      "outputs": [
        {
          "output_type": "execute_result",
          "data": {
            "text/plain": [
              "0.5223686021299907"
            ]
          },
          "metadata": {},
          "execution_count": 76
        }
      ]
    },
    {
      "cell_type": "code",
      "source": [
        "r2_train_score = r2_score(air_y_train, air_ridge_train_predicted)\n",
        "r2_test_score = r2_score(air_y_validation, air_ridge_validation_predicted)\n",
        "R2_train.append(round(r2_train_score,2))"
      ],
      "metadata": {
        "id": "kPZdPCtuT89w"
      },
      "execution_count": null,
      "outputs": []
    },
    {
      "cell_type": "code",
      "source": [
        "# The coefficients\n",
        "#print(\"Coefficients: \\n\", model.coef_)\n",
        "# The mean squared error\n",
        "print(\"Training data -Mean squared error: %.2f\" % mean_squared_error(air_y_train, air_ridge_train_predicted))\n",
        "print(\"Validation data - Mean squared error: %.2f\" % mean_squared_error(air_y_validation, air_ridge_validation_predicted))\n",
        "# The coefficient of determination: 1 is perfect prediction\n",
        "print(\"Training data R2 Score: %.2f\" % r2_score(air_y_train, air_ridge_train_predicted))\n",
        "print(\"Validation data R2 Score: %.2f\" % r2_score(air_y_validation, air_ridge_validation_predicted))\n",
        "\n",
        "# Plot outputs\n",
        "plt.scatter(air_y_train, air_ridge_train_predicted, color=\"black\")\n",
        "plt.scatter(air_y_validation, air_ridge_validation_predicted, color=\"red\")\n",
        "\n",
        "\n",
        "plt.xticks(())\n",
        "plt.yticks(())\n",
        "plt.title(\" Dot Chart for Ridge Regression\")\n",
        "plt.xlabel(\"Actual Data\")\n",
        "plt.ylabel(\"Predicted Data\")\n",
        "\n",
        "plt.show()"
      ],
      "metadata": {
        "colab": {
          "base_uri": "https://localhost:8080/",
          "height": 517
        },
        "id": "Jiul_H1sUFP-",
        "outputId": "6d21df6a-ecef-4719-f194-044a3a072f21"
      },
      "execution_count": null,
      "outputs": [
        {
          "output_type": "stream",
          "name": "stdout",
          "text": [
            "Training data -Mean squared error: 8163.59\n",
            "Validation data - Mean squared error: 8762.34\n",
            "Training data R2 Score: 0.57\n",
            "Validation data R2 Score: 0.52\n"
          ]
        },
        {
          "output_type": "display_data",
          "data": {
            "text/plain": [
              "<Figure size 640x480 with 1 Axes>"
            ],
            "image/png": "[encoded data removed]"
          },
          "metadata": {}
        }
      ]
    },
    {
      "cell_type": "code",
      "source": [
        "from sklearn.metrics import r2_score\n",
        "import numpy as np\n",
        "\n",
        "# Number of samples\n",
        "n_train = len(air_y_train)\n",
        "n_validation = len(air_y_validation)\n",
        "\n",
        "# Number of predictors (features)\n",
        "k = len(model.coef_)\n",
        "\n",
        "# Calculate R2 scores\n",
        "r2_train = r2_score(air_y_train, air_ridge_train_predicted)\n",
        "r2_validation = r2_score(air_y_validation, air_ridge_validation_predicted)\n",
        "\n",
        "# Calculate adjusted R2 scores\n",
        "adjusted_r2_train = 1 - ((1 - r2_train) * (n_train - 1) / (n_train - k - 1))\n",
        "adjusted_r2_validation = 1 - ((1 - r2_validation) * (n_validation - 1) / (n_validation - k - 1))\n",
        "\n",
        "# Print the results\n",
        "print(\"Training data R2 Score: %.2f\" % r2_train)\n",
        "print(\"Adjusted R2 for Training data: %.2f\" % adjusted_r2_train)\n",
        "\n",
        "print(\"\\nValidation data R2 Score: %.2f\" % r2_validation)\n",
        "print(\"Adjusted R2 for Validation data: %.2f\" % adjusted_r2_validation)\n"
      ],
      "metadata": {
        "colab": {
          "base_uri": "https://localhost:8080/"
        },
        "id": "6I2ZgDrguu6R",
        "outputId": "ec658df8-9194-4b71-d5f0-b6b0eea1457a"
      },
      "execution_count": null,
      "outputs": [
        {
          "output_type": "stream",
          "name": "stdout",
          "text": [
            "Training data R2 Score: 0.57\n",
            "Adjusted R2 for Training data: 0.56\n",
            "\n",
            "Validation data R2 Score: 0.52\n",
            "Adjusted R2 for Validation data: 0.51\n"
          ]
        }
      ]
    },
    {
      "cell_type": "code",
      "source": [
        "import matplotlib.pyplot as plt\n",
        "\n",
        "# Assuming 'air_y_validation' is the array of actual prices for validation data\n",
        "# 'air_linear_validation_predicted' is the array of predicted prices for validation data\n",
        "# Replace these with your actual variable names\n",
        "\n",
        "# Plotting the histogram with borders\n",
        "plt.figure(figsize=(8, 6))\n",
        "plt.hist(air_y_validation, bins=30, alpha=0.5, color='red', label='Actual Prices', edgecolor='black')\n",
        "plt.hist(air_ridge_validation_predicted, bins=100, alpha=0.5, color='goldenrod', label='Predicted Prices (Validation)', edgecolor='black')\n",
        "plt.title('Histogram of Actual Prices vs. Predicted Prices (Validation Data)')\n",
        "plt.xlabel('Price')\n",
        "plt.ylabel('Frequency')\n",
        "plt.legend()\n",
        "\n",
        "# Set the range for the X-axis (replace min_value and max_value with your desired range)\n",
        "min_value = 0\n",
        "max_value = 1000\n",
        "plt.xlim(min_value, max_value)\n",
        "\n",
        "plt.show()\n"
      ],
      "metadata": {
        "colab": {
          "base_uri": "https://localhost:8080/",
          "height": 564
        },
        "id": "Yk99oioLDTbd",
        "outputId": "b79a5f44-75db-4fd4-e48a-c8592c763453"
      },
      "execution_count": null,
      "outputs": [
        {
          "output_type": "display_data",
          "data": {
            "text/plain": [
              "<Figure size 800x600 with 1 Axes>"
            ],
            "image/png": "[encoded data removed]"
          },
          "metadata": {}
        }
      ]
    },
    {
      "cell_type": "markdown",
      "source": [
        "Random Forest"
      ],
      "metadata": {
        "id": "iLccDBJUWP_m"
      }
    },
    {
      "cell_type": "code",
      "source": [
        "from sklearn.ensemble import RandomForestRegressor\n",
        "from sklearn.model_selection import RandomizedSearchCV\n",
        "\n",
        "rf = RandomForestRegressor()\n",
        "\n",
        "# Number of trees in Random forest\n",
        "n_estimators = list(range(500, 1000, 100))\n",
        "# Maximum number of levels in a tree\n",
        "max_depth = list(range(4, 9, 4))\n",
        "# Minimum number of samples required to split an internal node\n",
        "min_samples_split = list(range(4, 9, 2))\n",
        "# Minimum number of samples required to be at a leaf node.\n",
        "min_samples_leaf = [1, 2, 5, 7]\n",
        "# Number of features to be considered at each split\n",
        "max_features = ['auto', 'sqrt']\n",
        "\n",
        "# Hyperparameters dict\n",
        "param_grid = {\n",
        "    \"n_estimators\": n_estimators,\n",
        "    \"max_depth\": max_depth,\n",
        "    \"min_samples_split\": min_samples_split,\n",
        "    \"min_samples_leaf\": min_samples_leaf,\n",
        "    \"max_features\": max_features\n",
        "}\n",
        "\n",
        "# Initialize RandomizedSearchCV with increased n_jobs for parallel processing\n",
        "rf_rs = RandomizedSearchCV(\n",
        "    estimator=rf,\n",
        "    param_distributions=param_grid,\n",
        "    n_jobs=-1,  # Use all available cores\n",
        "    verbose=2,\n",
        "    n_iter=50  # Adjust the number of iterations based on computational resources\n",
        ")\n"
      ],
      "metadata": {
        "id": "z2vUDdoKWTtJ"
      },
      "execution_count": null,
      "outputs": []
    },
    {
      "cell_type": "code",
      "source": [
        "rf_rs"
      ],
      "metadata": {
        "colab": {
          "base_uri": "https://localhost:8080/",
          "height": 117
        },
        "id": "4Se14PNCWW1j",
        "outputId": "fb975780-3563-4771-fbdd-ac5aa2550e43"
      },
      "execution_count": null,
      "outputs": [
        {
          "output_type": "execute_result",
          "data": {
            "text/plain": [
              "RandomizedSearchCV(estimator=RandomForestRegressor(), n_iter=50, n_jobs=-1,\n",
              "                   param_distributions={'max_depth': [4, 8],\n",
              "                                        'max_features': ['auto', 'sqrt'],\n",
              "                                        'min_samples_leaf': [1, 2, 5, 7],\n",
              "                                        'min_samples_split': [4, 6, 8],\n",
              "                                        'n_estimators': [500, 600, 700, 800,\n",
              "                                                         900]},\n",
              "                   verbose=2)"
            ],
            "text/html": [
              "<style>#sk-container-id-1 {color: black;background-color: white;}#sk-container-id-1 pre{padding: 0;}#sk-container-id-1 div.sk-toggleable {background-color: white;}#sk-container-id-1 label.sk-toggleable__label {cursor: pointer;display: block;width: 100%;margin-bottom: 0;padding: 0.3em;box-sizing: border-box;text-align: center;}#sk-container-id-1 label.sk-toggleable__label-arrow:before {content: \"▸\";float: left;margin-right: 0.25em;color: #696969;}#sk-container-id-1 label.sk-toggleable__label-arrow:hover:before {color: black;}#sk-container-id-1 div.sk-estimator:hover label.sk-toggleable__label-arrow:before {color: black;}#sk-container-id-1 div.sk-toggleable__content {max-height: 0;max-width: 0;overflow: hidden;text-align: left;background-color: #f0f8ff;}#sk-container-id-1 div.sk-toggleable__content pre {margin: 0.2em;color: black;border-radius: 0.25em;background-color: #f0f8ff;}#sk-container-id-1 input.sk-toggleable__control:checked~div.sk-toggleable__content {max-height: 200px;max-width: 100%;overflow: auto;}#sk-container-id-1 input.sk-toggleable__control:checked~label.sk-toggleable__label-arrow:before {content: \"▾\";}#sk-container-id-1 div.sk-estimator input.sk-toggleable__control:checked~label.sk-toggleable__label {background-color: #d4ebff;}#sk-container-id-1 div.sk-label input.sk-toggleable__control:checked~label.sk-toggleable__label {background-color: #d4ebff;}#sk-container-id-1 input.sk-hidden--visually {border: 0;clip: rect(1px 1px 1px 1px);clip: rect(1px, 1px, 1px, 1px);height: 1px;margin: -1px;overflow: hidden;padding: 0;position: absolute;width: 1px;}#sk-container-id-1 div.sk-estimator {font-family: monospace;background-color: #f0f8ff;border: 1px dotted black;border-radius: 0.25em;box-sizing: border-box;margin-bottom: 0.5em;}#sk-container-id-1 div.sk-estimator:hover {background-color: #d4ebff;}#sk-container-id-1 div.sk-parallel-item::after {content: \"\";width: 100%;border-bottom: 1px solid gray;flex-grow: 1;}#sk-container-id-1 div.sk-label:hover label.sk-toggleable__label {background-color: #d4ebff;}#sk-container-id-1 div.sk-serial::before {content: \"\";position: absolute;border-left: 1px solid gray;box-sizing: border-box;top: 0;bottom: 0;left: 50%;z-index: 0;}#sk-container-id-1 div.sk-serial {display: flex;flex-direction: column;align-items: center;background-color: white;padding-right: 0.2em;padding-left: 0.2em;position: relative;}#sk-container-id-1 div.sk-item {position: relative;z-index: 1;}#sk-container-id-1 div.sk-parallel {display: flex;align-items: stretch;justify-content: center;background-color: white;position: relative;}#sk-container-id-1 div.sk-item::before, #sk-container-id-1 div.sk-parallel-item::before {content: \"\";position: absolute;border-left: 1px solid gray;box-sizing: border-box;top: 0;bottom: 0;left: 50%;z-index: -1;}#sk-container-id-1 div.sk-parallel-item {display: flex;flex-direction: column;z-index: 1;position: relative;background-color: white;}#sk-container-id-1 div.sk-parallel-item:first-child::after {align-self: flex-end;width: 50%;}#sk-container-id-1 div.sk-parallel-item:last-child::after {align-self: flex-start;width: 50%;}#sk-container-id-1 div.sk-parallel-item:only-child::after {width: 0;}#sk-container-id-1 div.sk-dashed-wrapped {border: 1px dashed gray;margin: 0 0.4em 0.5em 0.4em;box-sizing: border-box;padding-bottom: 0.4em;background-color: white;}#sk-container-id-1 div.sk-label label {font-family: monospace;font-weight: bold;display: inline-block;line-height: 1.2em;}#sk-container-id-1 div.sk-label-container {text-align: center;}#sk-container-id-1 div.sk-container {/* jupyter's `normalize.less` sets `[hidden] { display: none; }` but bootstrap.min.css set `[hidden] { display: none !important; }` so we also need the `!important` here to be able to override the default hidden behavior on the sphinx rendered scikit-learn.org. See: https://github.com/scikit-learn/scikit-learn/issues/21755 */display: inline-block !important;position: relative;}#sk-container-id-1 div.sk-text-repr-fallback {display: none;}</style><div id=\"sk-container-id-1\" class=\"sk-top-container\"><div class=\"sk-text-repr-fallback\"><pre>RandomizedSearchCV(estimator=RandomForestRegressor(), n_iter=50, n_jobs=-1,\n",
              "                   param_distributions={&#x27;max_depth&#x27;: [4, 8],\n",
              "                                        &#x27;max_features&#x27;: [&#x27;auto&#x27;, &#x27;sqrt&#x27;],\n",
              "                                        &#x27;min_samples_leaf&#x27;: [1, 2, 5, 7],\n",
              "                                        &#x27;min_samples_split&#x27;: [4, 6, 8],\n",
              "                                        &#x27;n_estimators&#x27;: [500, 600, 700, 800,\n",
              "                                                         900]},\n",
              "                   verbose=2)</pre><b>In a Jupyter environment, please rerun this cell to show the HTML representation or trust the notebook. <br />On GitHub, the HTML representation is unable to render, please try loading this page with nbviewer.org.</b></div><div class=\"sk-container\" hidden><div class=\"sk-item sk-dashed-wrapped\"><div class=\"sk-label-container\"><div class=\"sk-label sk-toggleable\"><input class=\"sk-toggleable__control sk-hidden--visually\" id=\"sk-estimator-id-1\" type=\"checkbox\" ><label for=\"sk-estimator-id-1\" class=\"sk-toggleable__label sk-toggleable__label-arrow\">RandomizedSearchCV</label><div class=\"sk-toggleable__content\"><pre>RandomizedSearchCV(estimator=RandomForestRegressor(), n_iter=50, n_jobs=-1,\n",
              "                   param_distributions={&#x27;max_depth&#x27;: [4, 8],\n",
              "                                        &#x27;max_features&#x27;: [&#x27;auto&#x27;, &#x27;sqrt&#x27;],\n",
              "                                        &#x27;min_samples_leaf&#x27;: [1, 2, 5, 7],\n",
              "                                        &#x27;min_samples_split&#x27;: [4, 6, 8],\n",
              "                                        &#x27;n_estimators&#x27;: [500, 600, 700, 800,\n",
              "                                                         900]},\n",
              "                   verbose=2)</pre></div></div></div><div class=\"sk-parallel\"><div class=\"sk-parallel-item\"><div class=\"sk-item\"><div class=\"sk-label-container\"><div class=\"sk-label sk-toggleable\"><input class=\"sk-toggleable__control sk-hidden--visually\" id=\"sk-estimator-id-2\" type=\"checkbox\" ><label for=\"sk-estimator-id-2\" class=\"sk-toggleable__label sk-toggleable__label-arrow\">estimator: RandomForestRegressor</label><div class=\"sk-toggleable__content\"><pre>RandomForestRegressor()</pre></div></div></div><div class=\"sk-serial\"><div class=\"sk-item\"><div class=\"sk-estimator sk-toggleable\"><input class=\"sk-toggleable__control sk-hidden--visually\" id=\"sk-estimator-id-3\" type=\"checkbox\" ><label for=\"sk-estimator-id-3\" class=\"sk-toggleable__label sk-toggleable__label-arrow\">RandomForestRegressor</label><div class=\"sk-toggleable__content\"><pre>RandomForestRegressor()</pre></div></div></div></div></div></div></div></div></div></div>"
            ]
          },
          "metadata": {},
          "execution_count": 55
        }
      ]
    },
    {
      "cell_type": "code",
      "source": [
        "rf_rs.fit(air_X_train, air_y_train)\n",
        "rf_rs.best_params_"
      ],
      "metadata": {
        "colab": {
          "base_uri": "https://localhost:8080/",
          "height": 355
        },
        "id": "1GNY3S7GWdZk",
        "outputId": "05df7f0e-ad39-4c60-d787-12b99aac7cac"
      },
      "execution_count": null,
      "outputs": [
        {
          "output_type": "stream",
          "name": "stdout",
          "text": [
            "Fitting 5 folds for each of 50 candidates, totalling 250 fits\n"
          ]
        },
        {
          "output_type": "error",
          "ename": "KeyboardInterrupt",
          "evalue": "ignored",
          "traceback": [
            "\u001b[0;31m---------------------------------------------------------------------------\u001b[0m",
            "\u001b[0;31mKeyboardInterrupt\u001b[0m                         Traceback (most recent call last)",
            "\u001b[0;32m<ipython-input-56-99e5d34cae78>\u001b[0m in \u001b[0;36m<cell line: 1>\u001b[0;34m()\u001b[0m\n\u001b[0;32m----> 1\u001b[0;31m \u001b[0mrf_rs\u001b[0m\u001b[0;34m.\u001b[0m\u001b[0mfit\u001b[0m\u001b[0;34m(\u001b[0m\u001b[0mair_X_train\u001b[0m\u001b[0;34m,\u001b[0m \u001b[0mair_y_train\u001b[0m\u001b[0;34m)\u001b[0m\u001b[0;34m\u001b[0m\u001b[0;34m\u001b[0m\u001b[0m\n\u001b[0m\u001b[1;32m      2\u001b[0m \u001b[0mrf_rs\u001b[0m\u001b[0;34m.\u001b[0m\u001b[0mbest_params_\u001b[0m\u001b[0;34m\u001b[0m\u001b[0;34m\u001b[0m\u001b[0m\n",
            "\u001b[0;32m/usr/local/lib/python3.10/dist-packages/sklearn/model_selection/_search.py\u001b[0m in \u001b[0;36mfit\u001b[0;34m(self, X, y, groups, **fit_params)\u001b[0m\n\u001b[1;32m    872\u001b[0m                 \u001b[0;32mreturn\u001b[0m \u001b[0mresults\u001b[0m\u001b[0;34m\u001b[0m\u001b[0;34m\u001b[0m\u001b[0m\n\u001b[1;32m    873\u001b[0m \u001b[0;34m\u001b[0m\u001b[0m\n\u001b[0;32m--> 874\u001b[0;31m             \u001b[0mself\u001b[0m\u001b[0;34m.\u001b[0m\u001b[0m_run_search\u001b[0m\u001b[0;34m(\u001b[0m\u001b[0mevaluate_candidates\u001b[0m\u001b[0;34m)\u001b[0m\u001b[0;34m\u001b[0m\u001b[0;34m\u001b[0m\u001b[0m\n\u001b[0m\u001b[1;32m    875\u001b[0m \u001b[0;34m\u001b[0m\u001b[0m\n\u001b[1;32m    876\u001b[0m             \u001b[0;31m# multimetric is determined here because in the case of a callable\u001b[0m\u001b[0;34m\u001b[0m\u001b[0;34m\u001b[0m\u001b[0m\n",
            "\u001b[0;32m/usr/local/lib/python3.10/dist-packages/sklearn/model_selection/_search.py\u001b[0m in \u001b[0;36m_run_search\u001b[0;34m(self, evaluate_candidates)\u001b[0m\n\u001b[1;32m   1766\u001b[0m     \u001b[0;32mdef\u001b[0m \u001b[0m_run_search\u001b[0m\u001b[0;34m(\u001b[0m\u001b[0mself\u001b[0m\u001b[0;34m,\u001b[0m \u001b[0mevaluate_candidates\u001b[0m\u001b[0;34m)\u001b[0m\u001b[0;34m:\u001b[0m\u001b[0;34m\u001b[0m\u001b[0;34m\u001b[0m\u001b[0m\n\u001b[1;32m   1767\u001b[0m         \u001b[0;34m\"\"\"Search n_iter candidates from param_distributions\"\"\"\u001b[0m\u001b[0;34m\u001b[0m\u001b[0;34m\u001b[0m\u001b[0m\n\u001b[0;32m-> 1768\u001b[0;31m         evaluate_candidates(\n\u001b[0m\u001b[1;32m   1769\u001b[0m             ParameterSampler(\n\u001b[1;32m   1770\u001b[0m                 \u001b[0mself\u001b[0m\u001b[0;34m.\u001b[0m\u001b[0mparam_distributions\u001b[0m\u001b[0;34m,\u001b[0m \u001b[0mself\u001b[0m\u001b[0;34m.\u001b[0m\u001b[0mn_iter\u001b[0m\u001b[0;34m,\u001b[0m \u001b[0mrandom_state\u001b[0m\u001b[0;34m=\u001b[0m\u001b[0mself\u001b[0m\u001b[0;34m.\u001b[0m\u001b[0mrandom_state\u001b[0m\u001b[0;34m\u001b[0m\u001b[0;34m\u001b[0m\u001b[0m\n",
            "\u001b[0;32m/usr/local/lib/python3.10/dist-packages/sklearn/model_selection/_search.py\u001b[0m in \u001b[0;36mevaluate_candidates\u001b[0;34m(candidate_params, cv, more_results)\u001b[0m\n\u001b[1;32m    819\u001b[0m                     )\n\u001b[1;32m    820\u001b[0m \u001b[0;34m\u001b[0m\u001b[0m\n\u001b[0;32m--> 821\u001b[0;31m                 out = parallel(\n\u001b[0m\u001b[1;32m    822\u001b[0m                     delayed(_fit_and_score)(\n\u001b[1;32m    823\u001b[0m                         \u001b[0mclone\u001b[0m\u001b[0;34m(\u001b[0m\u001b[0mbase_estimator\u001b[0m\u001b[0;34m)\u001b[0m\u001b[0;34m,\u001b[0m\u001b[0;34m\u001b[0m\u001b[0;34m\u001b[0m\u001b[0m\n",
            "\u001b[0;32m/usr/local/lib/python3.10/dist-packages/sklearn/utils/parallel.py\u001b[0m in \u001b[0;36m__call__\u001b[0;34m(self, iterable)\u001b[0m\n\u001b[1;32m     61\u001b[0m             \u001b[0;32mfor\u001b[0m \u001b[0mdelayed_func\u001b[0m\u001b[0;34m,\u001b[0m \u001b[0margs\u001b[0m\u001b[0;34m,\u001b[0m \u001b[0mkwargs\u001b[0m \u001b[0;32min\u001b[0m \u001b[0miterable\u001b[0m\u001b[0;34m\u001b[0m\u001b[0;34m\u001b[0m\u001b[0m\n\u001b[1;32m     62\u001b[0m         )\n\u001b[0;32m---> 63\u001b[0;31m         \u001b[0;32mreturn\u001b[0m \u001b[0msuper\u001b[0m\u001b[0;34m(\u001b[0m\u001b[0;34m)\u001b[0m\u001b[0;34m.\u001b[0m\u001b[0m__call__\u001b[0m\u001b[0;34m(\u001b[0m\u001b[0miterable_with_config\u001b[0m\u001b[0;34m)\u001b[0m\u001b[0;34m\u001b[0m\u001b[0;34m\u001b[0m\u001b[0m\n\u001b[0m\u001b[1;32m     64\u001b[0m \u001b[0;34m\u001b[0m\u001b[0m\n\u001b[1;32m     65\u001b[0m \u001b[0;34m\u001b[0m\u001b[0m\n",
            "\u001b[0;32m/usr/local/lib/python3.10/dist-packages/joblib/parallel.py\u001b[0m in \u001b[0;36m__call__\u001b[0;34m(self, iterable)\u001b[0m\n\u001b[1;32m   1950\u001b[0m         \u001b[0mnext\u001b[0m\u001b[0;34m(\u001b[0m\u001b[0moutput\u001b[0m\u001b[0;34m)\u001b[0m\u001b[0;34m\u001b[0m\u001b[0;34m\u001b[0m\u001b[0m\n\u001b[1;32m   1951\u001b[0m \u001b[0;34m\u001b[0m\u001b[0m\n\u001b[0;32m-> 1952\u001b[0;31m         \u001b[0;32mreturn\u001b[0m \u001b[0moutput\u001b[0m \u001b[0;32mif\u001b[0m \u001b[0mself\u001b[0m\u001b[0;34m.\u001b[0m\u001b[0mreturn_generator\u001b[0m \u001b[0;32melse\u001b[0m \u001b[0mlist\u001b[0m\u001b[0;34m(\u001b[0m\u001b[0moutput\u001b[0m\u001b[0;34m)\u001b[0m\u001b[0;34m\u001b[0m\u001b[0;34m\u001b[0m\u001b[0m\n\u001b[0m\u001b[1;32m   1953\u001b[0m \u001b[0;34m\u001b[0m\u001b[0m\n\u001b[1;32m   1954\u001b[0m     \u001b[0;32mdef\u001b[0m \u001b[0m__repr__\u001b[0m\u001b[0;34m(\u001b[0m\u001b[0mself\u001b[0m\u001b[0;34m)\u001b[0m\u001b[0;34m:\u001b[0m\u001b[0;34m\u001b[0m\u001b[0;34m\u001b[0m\u001b[0m\n",
            "\u001b[0;32m/usr/local/lib/python3.10/dist-packages/joblib/parallel.py\u001b[0m in \u001b[0;36m_get_outputs\u001b[0;34m(self, iterator, pre_dispatch)\u001b[0m\n\u001b[1;32m   1593\u001b[0m \u001b[0;34m\u001b[0m\u001b[0m\n\u001b[1;32m   1594\u001b[0m             \u001b[0;32mwith\u001b[0m \u001b[0mself\u001b[0m\u001b[0;34m.\u001b[0m\u001b[0m_backend\u001b[0m\u001b[0;34m.\u001b[0m\u001b[0mretrieval_context\u001b[0m\u001b[0;34m(\u001b[0m\u001b[0;34m)\u001b[0m\u001b[0;34m:\u001b[0m\u001b[0;34m\u001b[0m\u001b[0;34m\u001b[0m\u001b[0m\n\u001b[0;32m-> 1595\u001b[0;31m                 \u001b[0;32myield\u001b[0m \u001b[0;32mfrom\u001b[0m \u001b[0mself\u001b[0m\u001b[0;34m.\u001b[0m\u001b[0m_retrieve\u001b[0m\u001b[0;34m(\u001b[0m\u001b[0;34m)\u001b[0m\u001b[0;34m\u001b[0m\u001b[0;34m\u001b[0m\u001b[0m\n\u001b[0m\u001b[1;32m   1596\u001b[0m \u001b[0;34m\u001b[0m\u001b[0m\n\u001b[1;32m   1597\u001b[0m         \u001b[0;32mexcept\u001b[0m \u001b[0mGeneratorExit\u001b[0m\u001b[0;34m:\u001b[0m\u001b[0;34m\u001b[0m\u001b[0;34m\u001b[0m\u001b[0m\n",
            "\u001b[0;32m/usr/local/lib/python3.10/dist-packages/joblib/parallel.py\u001b[0m in \u001b[0;36m_retrieve\u001b[0;34m(self)\u001b[0m\n\u001b[1;32m   1705\u001b[0m                 (self._jobs[0].get_status(\n\u001b[1;32m   1706\u001b[0m                     timeout=self.timeout) == TASK_PENDING)):\n\u001b[0;32m-> 1707\u001b[0;31m                 \u001b[0mtime\u001b[0m\u001b[0;34m.\u001b[0m\u001b[0msleep\u001b[0m\u001b[0;34m(\u001b[0m\u001b[0;36m0.01\u001b[0m\u001b[0;34m)\u001b[0m\u001b[0;34m\u001b[0m\u001b[0;34m\u001b[0m\u001b[0m\n\u001b[0m\u001b[1;32m   1708\u001b[0m                 \u001b[0;32mcontinue\u001b[0m\u001b[0;34m\u001b[0m\u001b[0;34m\u001b[0m\u001b[0m\n\u001b[1;32m   1709\u001b[0m \u001b[0;34m\u001b[0m\u001b[0m\n",
            "\u001b[0;31mKeyboardInterrupt\u001b[0m: "
          ]
        }
      ]
    },
    {
      "cell_type": "markdown",
      "source": [
        "***Lasso Regression***"
      ],
      "metadata": {
        "id": "ksfFyV_5Cv7M"
      }
    },
    {
      "cell_type": "code",
      "source": [
        "from sklearn.linear_model import Lasso\n",
        "from sklearn.model_selection import RandomizedSearchCV\n",
        "\n",
        "ls = Lasso()\n",
        "alpha = np.logspace(-3,3,num=14) # range for alpha\n",
        "\n",
        "ls_rs = RandomizedSearchCV(estimator = ls, param_distributions = dict(alpha=alpha))"
      ],
      "metadata": {
        "id": "cT0i91erCx1t"
      },
      "execution_count": null,
      "outputs": []
    },
    {
      "cell_type": "code",
      "source": [
        "ls_rs.fit(air_X_train,air_y_train)\n",
        "ls_rs.best_params_"
      ],
      "metadata": {
        "colab": {
          "base_uri": "https://localhost:8080/"
        },
        "id": "1bisSdSpC0QK",
        "outputId": "1fdb558f-3b71-4ccc-f13d-74d7c38bf257"
      },
      "execution_count": null,
      "outputs": [
        {
          "output_type": "execute_result",
          "data": {
            "text/plain": [
              "{'alpha': 0.0028942661247167516}"
            ]
          },
          "metadata": {},
          "execution_count": 101
        }
      ]
    },
    {
      "cell_type": "code",
      "source": [
        "air_lasso_train_predicted = ls_rs.predict(air_X_train)\n",
        "air_lasso_validation_predicted = ls_rs.predict(air_X_validation)"
      ],
      "metadata": {
        "id": "AUcalrdDC2gd"
      },
      "execution_count": null,
      "outputs": []
    },
    {
      "cell_type": "code",
      "source": [
        "r2_score(air_y_train,air_lasso_train_predicted)"
      ],
      "metadata": {
        "colab": {
          "base_uri": "https://localhost:8080/"
        },
        "id": "qDCYPNpnC4I4",
        "outputId": "12942313-eaa0-478c-f4fa-67608ae5d70e"
      },
      "execution_count": null,
      "outputs": [
        {
          "output_type": "execute_result",
          "data": {
            "text/plain": [
              "0.5660434680732174"
            ]
          },
          "metadata": {},
          "execution_count": 103
        }
      ]
    },
    {
      "cell_type": "code",
      "source": [
        "r2_score(air_y_validation, air_lasso_validation_predicted)"
      ],
      "metadata": {
        "colab": {
          "base_uri": "https://localhost:8080/"
        },
        "id": "Zt66h9mPC6A3",
        "outputId": "747cf807-001f-4845-cdae-2403e7e10c70"
      },
      "execution_count": null,
      "outputs": [
        {
          "output_type": "execute_result",
          "data": {
            "text/plain": [
              "0.5219934305983351"
            ]
          },
          "metadata": {},
          "execution_count": 104
        }
      ]
    },
    {
      "cell_type": "code",
      "source": [
        "R2_train = []\n",
        "R2_valid = []"
      ],
      "metadata": {
        "id": "RrvW7ePsC7um"
      },
      "execution_count": null,
      "outputs": []
    },
    {
      "cell_type": "code",
      "source": [
        "r2_train_score = r2_score(air_y_train, air_lasso_train_predicted)\n",
        "r2_test_score = r2_score(air_y_validation, air_lasso_validation_predicted)\n",
        "R2_train.append(round(r2_train_score,2))"
      ],
      "metadata": {
        "id": "gWGAaM_0C9h7"
      },
      "execution_count": null,
      "outputs": []
    },
    {
      "cell_type": "code",
      "source": [
        "# The coefficients\n",
        "#print(\"Coefficients: \\n\", model.coef_)\n",
        "# The mean squared error\n",
        "print(\"Training data -Mean squared error: %.2f\" % mean_squared_error(air_y_train, air_lasso_train_predicted))\n",
        "print(\"Validation data - Mean squared error: %.2f\" % mean_squared_error(air_y_validation, air_lasso_validation_predicted))\n",
        "# The coefficient of determination: 1 is perfect prediction\n",
        "print(\"Training data R2 Score: %.2f\" % r2_score(air_y_train, air_lasso_train_predicted))\n",
        "print(\"Validation data R2 Score: %.2f\" % r2_score(air_y_validation, air_lasso_validation_predicted))\n",
        "\n",
        "# Plot outputs\n",
        "plt.scatter(air_y_train, air_lasso_train_predicted, color=\"black\")\n",
        "plt.scatter(air_y_validation, air_lasso_validation_predicted, color=\"red\")\n",
        "\n",
        "\n",
        "plt.xticks(())\n",
        "plt.yticks(())\n",
        "plt.title(\" Dot Chart for Lasso Regression\")\n",
        "plt.xlabel(\"Actual Data\")\n",
        "plt.ylabel(\"Predicted Data\")\n",
        "\n",
        "plt.show()"
      ],
      "metadata": {
        "colab": {
          "base_uri": "https://localhost:8080/",
          "height": 517
        },
        "id": "rSRjOGcZC_LK",
        "outputId": "24b03560-9a82-44bc-dbda-d88dfe21cc74"
      },
      "execution_count": null,
      "outputs": [
        {
          "output_type": "stream",
          "name": "stdout",
          "text": [
            "Training data -Mean squared error: 8173.00\n",
            "Validation data - Mean squared error: 8769.22\n",
            "Training data R2 Score: 0.57\n",
            "Validation data R2 Score: 0.52\n"
          ]
        },
        {
          "output_type": "display_data",
          "data": {
            "text/plain": [
              "<Figure size 640x480 with 1 Axes>"
            ],
            "image/png": "[encoded data removed]"
          },
          "metadata": {}
        }
      ]
    },
    {
      "cell_type": "code",
      "source": [
        "from sklearn.metrics import r2_score\n",
        "import numpy as np\n",
        "\n",
        "# Number of samples\n",
        "n_train = len(air_y_train)\n",
        "n_validation = len(air_y_validation)\n",
        "\n",
        "# Number of predictors (features)\n",
        "k = len(model.coef_)\n",
        "\n",
        "# Calculate R2 scores\n",
        "r2_train = r2_score(air_y_train, air_lasso_train_predicted)\n",
        "r2_validation = r2_score(air_y_validation, air_lasso_validation_predicted)\n",
        "\n",
        "# Calculate adjusted R2 scores\n",
        "adjusted_r2_train = 1 - ((1 - r2_train) * (n_train - 1) / (n_train - k - 1))\n",
        "adjusted_r2_validation = 1 - ((1 - r2_validation) * (n_validation - 1) / (n_validation - k - 1))\n",
        "\n",
        "# Print the results\n",
        "print(\"Training data R2 Score: %.2f\" % r2_train)\n",
        "print(\"Adjusted R2 for Training data: %.2f\" % adjusted_r2_train)\n",
        "\n",
        "print(\"\\nValidation data R2 Score: %.2f\" % r2_validation)\n",
        "print(\"Adjusted R2 for Validation data: %.2f\" % adjusted_r2_validation)\n"
      ],
      "metadata": {
        "colab": {
          "base_uri": "https://localhost:8080/"
        },
        "id": "wJ1LeoJYvVgV",
        "outputId": "0cfa1562-4240-436f-a3b5-d7200a7d8d45"
      },
      "execution_count": null,
      "outputs": [
        {
          "output_type": "stream",
          "name": "stdout",
          "text": [
            "Training data R2 Score: 0.57\n",
            "Adjusted R2 for Training data: 0.56\n",
            "\n",
            "Validation data R2 Score: 0.52\n",
            "Adjusted R2 for Validation data: 0.51\n"
          ]
        }
      ]
    },
    {
      "cell_type": "code",
      "source": [
        "import matplotlib.pyplot as plt\n",
        "\n",
        "# Assuming 'air_y_validation' is the array of actual prices for validation data\n",
        "# 'air_linear_validation_predicted' is the array of predicted prices for validation data\n",
        "# Replace these with your actual variable names\n",
        "\n",
        "# Plotting the histogram with borders\n",
        "plt.figure(figsize=(8, 6))\n",
        "plt.hist(air_y_validation, bins=30, alpha=0.5, color='red', label='Actual Prices', edgecolor='black')\n",
        "plt.hist(air_lasso_validation_predicted, bins=100, alpha=0.5, color='goldenrod', label='Predicted Prices (Validation)', edgecolor='black')\n",
        "plt.title('Histogram of Actual Prices vs. Predicted Prices (Validation Data)')\n",
        "plt.xlabel('Price')\n",
        "plt.ylabel('Frequency')\n",
        "plt.legend()\n",
        "\n",
        "# Set the range for the X-axis (replace min_value and max_value with your desired range)\n",
        "min_value = 0\n",
        "max_value = 1000\n",
        "plt.xlim(min_value, max_value)\n",
        "\n",
        "plt.show()\n"
      ],
      "metadata": {
        "colab": {
          "base_uri": "https://localhost:8080/",
          "height": 564
        },
        "id": "MCiSlOKjUU_m",
        "outputId": "b124ff4c-af25-4b01-b6a6-2759628685da"
      },
      "execution_count": null,
      "outputs": [
        {
          "output_type": "display_data",
          "data": {
            "text/plain": [
              "<Figure size 800x600 with 1 Axes>"
            ],
            "image/png": "[encoded data removed]"
          },
          "metadata": {}
        }
      ]
    },
    {
      "cell_type": "code",
      "source": [
        "num = Air.select_dtypes(include = ('int64','float64','int32'))\n",
        "numcorr = num.corr()\n",
        "f, ax = plt.subplots(figsize = (19,1)) # set figure size\n",
        "sns.heatmap(numcorr.sort_values(by = 'Price', ascending = False).head(1), annot = True, fmt = \".2f\")\n",
        "plt.show()"
      ],
      "metadata": {
        "colab": {
          "base_uri": "https://localhost:8080/",
          "height": 342
        },
        "id": "NXTDi9MVmpxF",
        "outputId": "f8036e3b-c305-45a3-f189-99b70d032fa2"
      },
      "execution_count": null,
      "outputs": [
        {
          "output_type": "display_data",
          "data": {
            "text/plain": [
              "<Figure size 1900x100 with 2 Axes>"
            ],
            "image/png": "[encoded data removed]"
          },
          "metadata": {}
        }
      ]
    },
    {
      "cell_type": "code",
      "source": [
        "numcorr['Price'].sort_values(ascending = False).to_frame().plot.bar(color = 'Red')\n",
        "plt.axhline(y = 0.2, color = 'r', linestyle = '-')\n",
        "plt.title('Corrplot vs. Price')\n",
        "plt.show()"
      ],
      "metadata": {
        "colab": {
          "base_uri": "https://localhost:8080/",
          "height": 652
        },
        "id": "Fi2TDB1Om74N",
        "outputId": "a3e9e081-3b14-491b-de95-f5541c17183f"
      },
      "execution_count": null,
      "outputs": [
        {
          "output_type": "display_data",
          "data": {
            "text/plain": [
              "<Figure size 640x480 with 1 Axes>"
            ],
            "image/png": "[encoded data removed]"
          },
          "metadata": {}
        }
      ]
    }
  ]
}